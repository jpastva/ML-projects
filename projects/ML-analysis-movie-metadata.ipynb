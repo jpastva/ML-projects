{
 "cells": [
  {
   "cell_type": "markdown",
   "metadata": {},
   "source": [
    "The aim of this study is to determine whether movie metadata gathered from the MovieLens website (via Kaggle) can be utilized to predict the success of a movie as measured by its overall revenue using lasso regression. The project also employs k-means clustering to examine whether movie metadata can offer any insights into patterns that exist outside of movie genres for the purpose of grouping films online for recommenders or targeted advertising campaigns."
   ]
  },
  {
   "cell_type": "code",
   "execution_count": 1,
   "metadata": {},
   "outputs": [],
   "source": [
    "import pandas as pd\n",
    "import numpy as np\n",
    "import math\n",
    "import seaborn as sns\n",
    "import matplotlib.pyplot as plt\n",
    "import ast\n",
    "from sklearn.model_selection import train_test_split\n",
    "from sklearn.metrics import mean_squared_error\n",
    "from sklearn.linear_model import Lasso\n",
    "from sklearn.preprocessing import StandardScaler"
   ]
  },
  {
   "cell_type": "markdown",
   "metadata": {},
   "source": [
    "## Data load, analysis, and cleaning"
   ]
  },
  {
   "cell_type": "code",
   "execution_count": 2,
   "metadata": {},
   "outputs": [
    {
     "name": "stdout",
     "output_type": "stream",
     "text": [
      "<class 'pandas.core.frame.DataFrame'>\n",
      "RangeIndex: 45466 entries, 0 to 45465\n",
      "Data columns (total 24 columns):\n",
      "adult                    45466 non-null object\n",
      "belongs_to_collection    4494 non-null object\n",
      "budget                   45466 non-null object\n",
      "genres                   45466 non-null object\n",
      "homepage                 7782 non-null object\n",
      "id                       45466 non-null object\n",
      "imdb_id                  45449 non-null object\n",
      "original_language        45455 non-null object\n",
      "original_title           45466 non-null object\n",
      "overview                 44512 non-null object\n",
      "popularity               45461 non-null object\n",
      "poster_path              45080 non-null object\n",
      "production_companies     45463 non-null object\n",
      "production_countries     45463 non-null object\n",
      "release_date             45379 non-null object\n",
      "revenue                  45460 non-null float64\n",
      "runtime                  45203 non-null float64\n",
      "spoken_languages         45460 non-null object\n",
      "status                   45379 non-null object\n",
      "tagline                  20412 non-null object\n",
      "title                    45460 non-null object\n",
      "video                    45460 non-null object\n",
      "vote_average             45460 non-null float64\n",
      "vote_count               45460 non-null float64\n",
      "dtypes: float64(4), object(20)\n",
      "memory usage: 8.3+ MB\n"
     ]
    },
    {
     "name": "stderr",
     "output_type": "stream",
     "text": [
      "C:\\Users\\jmp5118\\AppData\\Local\\Continuum\\anaconda3\\lib\\site-packages\\IPython\\core\\interactiveshell.py:3058: DtypeWarning: Columns (10) have mixed types. Specify dtype option on import or set low_memory=False.\n",
      "  interactivity=interactivity, compiler=compiler, result=result)\n"
     ]
    }
   ],
   "source": [
    "# Import the dataset\n",
    "dataset = pd.read_csv('movies_metadata.csv')\n",
    "\n",
    "# Examine columns of data\n",
    "dataset.info()"
   ]
  },
  {
   "cell_type": "code",
   "execution_count": 3,
   "metadata": {},
   "outputs": [
    {
     "data": {
      "text/html": [
       "<div>\n",
       "<style scoped>\n",
       "    .dataframe tbody tr th:only-of-type {\n",
       "        vertical-align: middle;\n",
       "    }\n",
       "\n",
       "    .dataframe tbody tr th {\n",
       "        vertical-align: top;\n",
       "    }\n",
       "\n",
       "    .dataframe thead th {\n",
       "        text-align: right;\n",
       "    }\n",
       "</style>\n",
       "<table border=\"1\" class=\"dataframe\">\n",
       "  <thead>\n",
       "    <tr style=\"text-align: right;\">\n",
       "      <th></th>\n",
       "      <th>adult</th>\n",
       "      <th>belongs_to_collection</th>\n",
       "      <th>budget</th>\n",
       "      <th>genres</th>\n",
       "      <th>homepage</th>\n",
       "      <th>id</th>\n",
       "      <th>imdb_id</th>\n",
       "      <th>original_language</th>\n",
       "      <th>original_title</th>\n",
       "      <th>overview</th>\n",
       "      <th>...</th>\n",
       "      <th>release_date</th>\n",
       "      <th>revenue</th>\n",
       "      <th>runtime</th>\n",
       "      <th>spoken_languages</th>\n",
       "      <th>status</th>\n",
       "      <th>tagline</th>\n",
       "      <th>title</th>\n",
       "      <th>video</th>\n",
       "      <th>vote_average</th>\n",
       "      <th>vote_count</th>\n",
       "    </tr>\n",
       "  </thead>\n",
       "  <tbody>\n",
       "    <tr>\n",
       "      <td>0</td>\n",
       "      <td>False</td>\n",
       "      <td>{'id': 10194, 'name': 'Toy Story Collection', ...</td>\n",
       "      <td>30000000</td>\n",
       "      <td>[{'id': 16, 'name': 'Animation'}, {'id': 35, '...</td>\n",
       "      <td>http://toystory.disney.com/toy-story</td>\n",
       "      <td>862</td>\n",
       "      <td>tt0114709</td>\n",
       "      <td>en</td>\n",
       "      <td>Toy Story</td>\n",
       "      <td>Led by Woody, Andy's toys live happily in his ...</td>\n",
       "      <td>...</td>\n",
       "      <td>1995-10-30</td>\n",
       "      <td>373554033.0</td>\n",
       "      <td>81.0</td>\n",
       "      <td>[{'iso_639_1': 'en', 'name': 'English'}]</td>\n",
       "      <td>Released</td>\n",
       "      <td>NaN</td>\n",
       "      <td>Toy Story</td>\n",
       "      <td>False</td>\n",
       "      <td>7.7</td>\n",
       "      <td>5415.0</td>\n",
       "    </tr>\n",
       "    <tr>\n",
       "      <td>1</td>\n",
       "      <td>False</td>\n",
       "      <td>NaN</td>\n",
       "      <td>65000000</td>\n",
       "      <td>[{'id': 12, 'name': 'Adventure'}, {'id': 14, '...</td>\n",
       "      <td>NaN</td>\n",
       "      <td>8844</td>\n",
       "      <td>tt0113497</td>\n",
       "      <td>en</td>\n",
       "      <td>Jumanji</td>\n",
       "      <td>When siblings Judy and Peter discover an encha...</td>\n",
       "      <td>...</td>\n",
       "      <td>1995-12-15</td>\n",
       "      <td>262797249.0</td>\n",
       "      <td>104.0</td>\n",
       "      <td>[{'iso_639_1': 'en', 'name': 'English'}, {'iso...</td>\n",
       "      <td>Released</td>\n",
       "      <td>Roll the dice and unleash the excitement!</td>\n",
       "      <td>Jumanji</td>\n",
       "      <td>False</td>\n",
       "      <td>6.9</td>\n",
       "      <td>2413.0</td>\n",
       "    </tr>\n",
       "    <tr>\n",
       "      <td>2</td>\n",
       "      <td>False</td>\n",
       "      <td>{'id': 119050, 'name': 'Grumpy Old Men Collect...</td>\n",
       "      <td>0</td>\n",
       "      <td>[{'id': 10749, 'name': 'Romance'}, {'id': 35, ...</td>\n",
       "      <td>NaN</td>\n",
       "      <td>15602</td>\n",
       "      <td>tt0113228</td>\n",
       "      <td>en</td>\n",
       "      <td>Grumpier Old Men</td>\n",
       "      <td>A family wedding reignites the ancient feud be...</td>\n",
       "      <td>...</td>\n",
       "      <td>1995-12-22</td>\n",
       "      <td>0.0</td>\n",
       "      <td>101.0</td>\n",
       "      <td>[{'iso_639_1': 'en', 'name': 'English'}]</td>\n",
       "      <td>Released</td>\n",
       "      <td>Still Yelling. Still Fighting. Still Ready for...</td>\n",
       "      <td>Grumpier Old Men</td>\n",
       "      <td>False</td>\n",
       "      <td>6.5</td>\n",
       "      <td>92.0</td>\n",
       "    </tr>\n",
       "    <tr>\n",
       "      <td>3</td>\n",
       "      <td>False</td>\n",
       "      <td>NaN</td>\n",
       "      <td>16000000</td>\n",
       "      <td>[{'id': 35, 'name': 'Comedy'}, {'id': 18, 'nam...</td>\n",
       "      <td>NaN</td>\n",
       "      <td>31357</td>\n",
       "      <td>tt0114885</td>\n",
       "      <td>en</td>\n",
       "      <td>Waiting to Exhale</td>\n",
       "      <td>Cheated on, mistreated and stepped on, the wom...</td>\n",
       "      <td>...</td>\n",
       "      <td>1995-12-22</td>\n",
       "      <td>81452156.0</td>\n",
       "      <td>127.0</td>\n",
       "      <td>[{'iso_639_1': 'en', 'name': 'English'}]</td>\n",
       "      <td>Released</td>\n",
       "      <td>Friends are the people who let you be yourself...</td>\n",
       "      <td>Waiting to Exhale</td>\n",
       "      <td>False</td>\n",
       "      <td>6.1</td>\n",
       "      <td>34.0</td>\n",
       "    </tr>\n",
       "    <tr>\n",
       "      <td>4</td>\n",
       "      <td>False</td>\n",
       "      <td>{'id': 96871, 'name': 'Father of the Bride Col...</td>\n",
       "      <td>0</td>\n",
       "      <td>[{'id': 35, 'name': 'Comedy'}]</td>\n",
       "      <td>NaN</td>\n",
       "      <td>11862</td>\n",
       "      <td>tt0113041</td>\n",
       "      <td>en</td>\n",
       "      <td>Father of the Bride Part II</td>\n",
       "      <td>Just when George Banks has recovered from his ...</td>\n",
       "      <td>...</td>\n",
       "      <td>1995-02-10</td>\n",
       "      <td>76578911.0</td>\n",
       "      <td>106.0</td>\n",
       "      <td>[{'iso_639_1': 'en', 'name': 'English'}]</td>\n",
       "      <td>Released</td>\n",
       "      <td>Just When His World Is Back To Normal... He's ...</td>\n",
       "      <td>Father of the Bride Part II</td>\n",
       "      <td>False</td>\n",
       "      <td>5.7</td>\n",
       "      <td>173.0</td>\n",
       "    </tr>\n",
       "  </tbody>\n",
       "</table>\n",
       "<p>5 rows × 24 columns</p>\n",
       "</div>"
      ],
      "text/plain": [
       "   adult                              belongs_to_collection    budget  \\\n",
       "0  False  {'id': 10194, 'name': 'Toy Story Collection', ...  30000000   \n",
       "1  False                                                NaN  65000000   \n",
       "2  False  {'id': 119050, 'name': 'Grumpy Old Men Collect...         0   \n",
       "3  False                                                NaN  16000000   \n",
       "4  False  {'id': 96871, 'name': 'Father of the Bride Col...         0   \n",
       "\n",
       "                                              genres  \\\n",
       "0  [{'id': 16, 'name': 'Animation'}, {'id': 35, '...   \n",
       "1  [{'id': 12, 'name': 'Adventure'}, {'id': 14, '...   \n",
       "2  [{'id': 10749, 'name': 'Romance'}, {'id': 35, ...   \n",
       "3  [{'id': 35, 'name': 'Comedy'}, {'id': 18, 'nam...   \n",
       "4                     [{'id': 35, 'name': 'Comedy'}]   \n",
       "\n",
       "                               homepage     id    imdb_id original_language  \\\n",
       "0  http://toystory.disney.com/toy-story    862  tt0114709                en   \n",
       "1                                   NaN   8844  tt0113497                en   \n",
       "2                                   NaN  15602  tt0113228                en   \n",
       "3                                   NaN  31357  tt0114885                en   \n",
       "4                                   NaN  11862  tt0113041                en   \n",
       "\n",
       "                original_title  \\\n",
       "0                    Toy Story   \n",
       "1                      Jumanji   \n",
       "2             Grumpier Old Men   \n",
       "3            Waiting to Exhale   \n",
       "4  Father of the Bride Part II   \n",
       "\n",
       "                                            overview  ... release_date  \\\n",
       "0  Led by Woody, Andy's toys live happily in his ...  ...   1995-10-30   \n",
       "1  When siblings Judy and Peter discover an encha...  ...   1995-12-15   \n",
       "2  A family wedding reignites the ancient feud be...  ...   1995-12-22   \n",
       "3  Cheated on, mistreated and stepped on, the wom...  ...   1995-12-22   \n",
       "4  Just when George Banks has recovered from his ...  ...   1995-02-10   \n",
       "\n",
       "       revenue runtime                                   spoken_languages  \\\n",
       "0  373554033.0    81.0           [{'iso_639_1': 'en', 'name': 'English'}]   \n",
       "1  262797249.0   104.0  [{'iso_639_1': 'en', 'name': 'English'}, {'iso...   \n",
       "2          0.0   101.0           [{'iso_639_1': 'en', 'name': 'English'}]   \n",
       "3   81452156.0   127.0           [{'iso_639_1': 'en', 'name': 'English'}]   \n",
       "4   76578911.0   106.0           [{'iso_639_1': 'en', 'name': 'English'}]   \n",
       "\n",
       "     status                                            tagline  \\\n",
       "0  Released                                                NaN   \n",
       "1  Released          Roll the dice and unleash the excitement!   \n",
       "2  Released  Still Yelling. Still Fighting. Still Ready for...   \n",
       "3  Released  Friends are the people who let you be yourself...   \n",
       "4  Released  Just When His World Is Back To Normal... He's ...   \n",
       "\n",
       "                         title  video vote_average vote_count  \n",
       "0                    Toy Story  False          7.7     5415.0  \n",
       "1                      Jumanji  False          6.9     2413.0  \n",
       "2             Grumpier Old Men  False          6.5       92.0  \n",
       "3            Waiting to Exhale  False          6.1       34.0  \n",
       "4  Father of the Bride Part II  False          5.7      173.0  \n",
       "\n",
       "[5 rows x 24 columns]"
      ]
     },
     "execution_count": 3,
     "metadata": {},
     "output_type": "execute_result"
    }
   ],
   "source": [
    "# Examine first five rows of data\n",
    "dataset.head()"
   ]
  },
  {
   "cell_type": "code",
   "execution_count": 4,
   "metadata": {},
   "outputs": [],
   "source": [
    "# Create dataframe for selected data\n",
    "num_cols = ['budget','popularity','revenue','runtime','vote_average','vote_count']\n",
    "mov_df = dataset[['genres','title','budget','popularity','revenue','runtime','vote_average','vote_count']].copy()"
   ]
  },
  {
   "cell_type": "code",
   "execution_count": 5,
   "metadata": {},
   "outputs": [],
   "source": [
    "# Find rows with non-numeric values and drop; convert cols to numeric dtype \n",
    "mov_data = (mov_df.drop(num_cols, axis=1)\n",
    "         .join(mov_df[num_cols].apply(pd.to_numeric, errors='coerce')))\n",
    "\n",
    "mov_data = mov_data[mov_data[num_cols].notnull().all(axis=1)]"
   ]
  },
  {
   "cell_type": "code",
   "execution_count": 6,
   "metadata": {},
   "outputs": [
    {
     "name": "stdout",
     "output_type": "stream",
     "text": [
      "<class 'pandas.core.frame.DataFrame'>\n",
      "Int64Index: 45203 entries, 0 to 45465\n",
      "Data columns (total 9 columns):\n",
      "genres          45203 non-null object\n",
      "title           45203 non-null object\n",
      "budget          45203 non-null float64\n",
      "popularity      45203 non-null float64\n",
      "revenue         45203 non-null float64\n",
      "runtime         45203 non-null float64\n",
      "vote_average    45203 non-null float64\n",
      "vote_count      45203 non-null float64\n",
      "profit          45203 non-null float64\n",
      "dtypes: float64(7), object(2)\n",
      "memory usage: 3.4+ MB\n"
     ]
    }
   ],
   "source": [
    "# Insert calculated profit column\n",
    "mov_data['profit'] = mov_data['revenue'] - mov_data['budget']\n",
    "mov_data.info()"
   ]
  },
  {
   "cell_type": "code",
   "execution_count": 7,
   "metadata": {},
   "outputs": [],
   "source": [
    "mov_data['genres'] = mov_data['genres'].fillna('[]').apply(ast.literal_eval).apply(lambda x: [i['name'] for i in x] if isinstance(x, list) else [])"
   ]
  },
  {
   "cell_type": "code",
   "execution_count": 8,
   "metadata": {},
   "outputs": [
    {
     "data": {
      "text/html": [
       "<div>\n",
       "<style scoped>\n",
       "    .dataframe tbody tr th:only-of-type {\n",
       "        vertical-align: middle;\n",
       "    }\n",
       "\n",
       "    .dataframe tbody tr th {\n",
       "        vertical-align: top;\n",
       "    }\n",
       "\n",
       "    .dataframe thead th {\n",
       "        text-align: right;\n",
       "    }\n",
       "</style>\n",
       "<table border=\"1\" class=\"dataframe\">\n",
       "  <thead>\n",
       "    <tr style=\"text-align: right;\">\n",
       "      <th></th>\n",
       "      <th>genres</th>\n",
       "      <th>title</th>\n",
       "      <th>budget</th>\n",
       "      <th>popularity</th>\n",
       "      <th>revenue</th>\n",
       "      <th>runtime</th>\n",
       "      <th>vote_average</th>\n",
       "      <th>vote_count</th>\n",
       "      <th>profit</th>\n",
       "    </tr>\n",
       "  </thead>\n",
       "  <tbody>\n",
       "    <tr>\n",
       "      <td>0</td>\n",
       "      <td>[Animation, Comedy, Family]</td>\n",
       "      <td>Toy Story</td>\n",
       "      <td>30000000.0</td>\n",
       "      <td>21.946943</td>\n",
       "      <td>373554033.0</td>\n",
       "      <td>81.0</td>\n",
       "      <td>7.7</td>\n",
       "      <td>5415.0</td>\n",
       "      <td>343554033.0</td>\n",
       "    </tr>\n",
       "    <tr>\n",
       "      <td>1</td>\n",
       "      <td>[Adventure, Fantasy, Family]</td>\n",
       "      <td>Jumanji</td>\n",
       "      <td>65000000.0</td>\n",
       "      <td>17.015539</td>\n",
       "      <td>262797249.0</td>\n",
       "      <td>104.0</td>\n",
       "      <td>6.9</td>\n",
       "      <td>2413.0</td>\n",
       "      <td>197797249.0</td>\n",
       "    </tr>\n",
       "    <tr>\n",
       "      <td>2</td>\n",
       "      <td>[Romance, Comedy]</td>\n",
       "      <td>Grumpier Old Men</td>\n",
       "      <td>0.0</td>\n",
       "      <td>11.712900</td>\n",
       "      <td>0.0</td>\n",
       "      <td>101.0</td>\n",
       "      <td>6.5</td>\n",
       "      <td>92.0</td>\n",
       "      <td>0.0</td>\n",
       "    </tr>\n",
       "    <tr>\n",
       "      <td>3</td>\n",
       "      <td>[Comedy, Drama, Romance]</td>\n",
       "      <td>Waiting to Exhale</td>\n",
       "      <td>16000000.0</td>\n",
       "      <td>3.859495</td>\n",
       "      <td>81452156.0</td>\n",
       "      <td>127.0</td>\n",
       "      <td>6.1</td>\n",
       "      <td>34.0</td>\n",
       "      <td>65452156.0</td>\n",
       "    </tr>\n",
       "    <tr>\n",
       "      <td>4</td>\n",
       "      <td>[Comedy]</td>\n",
       "      <td>Father of the Bride Part II</td>\n",
       "      <td>0.0</td>\n",
       "      <td>8.387519</td>\n",
       "      <td>76578911.0</td>\n",
       "      <td>106.0</td>\n",
       "      <td>5.7</td>\n",
       "      <td>173.0</td>\n",
       "      <td>76578911.0</td>\n",
       "    </tr>\n",
       "  </tbody>\n",
       "</table>\n",
       "</div>"
      ],
      "text/plain": [
       "                         genres                        title      budget  \\\n",
       "0   [Animation, Comedy, Family]                    Toy Story  30000000.0   \n",
       "1  [Adventure, Fantasy, Family]                      Jumanji  65000000.0   \n",
       "2             [Romance, Comedy]             Grumpier Old Men         0.0   \n",
       "3      [Comedy, Drama, Romance]            Waiting to Exhale  16000000.0   \n",
       "4                      [Comedy]  Father of the Bride Part II         0.0   \n",
       "\n",
       "   popularity      revenue  runtime  vote_average  vote_count       profit  \n",
       "0   21.946943  373554033.0     81.0           7.7      5415.0  343554033.0  \n",
       "1   17.015539  262797249.0    104.0           6.9      2413.0  197797249.0  \n",
       "2   11.712900          0.0    101.0           6.5        92.0          0.0  \n",
       "3    3.859495   81452156.0    127.0           6.1        34.0   65452156.0  \n",
       "4    8.387519   76578911.0    106.0           5.7       173.0   76578911.0  "
      ]
     },
     "execution_count": 8,
     "metadata": {},
     "output_type": "execute_result"
    }
   ],
   "source": [
    "mov_data.head()"
   ]
  },
  {
   "cell_type": "code",
   "execution_count": 9,
   "metadata": {},
   "outputs": [],
   "source": [
    "# Convert genres to binary matrix of 1/0 for modeling\n",
    "# code attribution: https://github.com/gaurangdavda\n",
    "s = mov_data.apply(lambda x: pd.Series(x['genres']),axis=1).stack().reset_index(level=1, drop=True)\n",
    "s.name = 'genre'\n",
    "gen_rgf = mov_data.drop('genres', axis=1).join(s)\n",
    "genres_train = gen_rgf['genre'].drop_duplicates()\n",
    "\n",
    "for genre in genres_train:\n",
    "        mov_data['is_' + str(genre)] = mov_data['genres'].apply(lambda x: 1 if genre in x else 0)\n",
    "mov_data['genres'] = mov_data['genres'].apply(lambda x: len(x))"
   ]
  },
  {
   "cell_type": "code",
   "execution_count": 10,
   "metadata": {},
   "outputs": [
    {
     "data": {
      "text/html": [
       "<div>\n",
       "<style scoped>\n",
       "    .dataframe tbody tr th:only-of-type {\n",
       "        vertical-align: middle;\n",
       "    }\n",
       "\n",
       "    .dataframe tbody tr th {\n",
       "        vertical-align: top;\n",
       "    }\n",
       "\n",
       "    .dataframe thead th {\n",
       "        text-align: right;\n",
       "    }\n",
       "</style>\n",
       "<table border=\"1\" class=\"dataframe\">\n",
       "  <thead>\n",
       "    <tr style=\"text-align: right;\">\n",
       "      <th></th>\n",
       "      <th>genres</th>\n",
       "      <th>title</th>\n",
       "      <th>budget</th>\n",
       "      <th>popularity</th>\n",
       "      <th>revenue</th>\n",
       "      <th>runtime</th>\n",
       "      <th>vote_average</th>\n",
       "      <th>vote_count</th>\n",
       "      <th>profit</th>\n",
       "      <th>is_Animation</th>\n",
       "      <th>...</th>\n",
       "      <th>is_History</th>\n",
       "      <th>is_Science Fiction</th>\n",
       "      <th>is_Mystery</th>\n",
       "      <th>is_War</th>\n",
       "      <th>is_Foreign</th>\n",
       "      <th>is_nan</th>\n",
       "      <th>is_Music</th>\n",
       "      <th>is_Documentary</th>\n",
       "      <th>is_Western</th>\n",
       "      <th>is_TV Movie</th>\n",
       "    </tr>\n",
       "  </thead>\n",
       "  <tbody>\n",
       "    <tr>\n",
       "      <td>0</td>\n",
       "      <td>3</td>\n",
       "      <td>Toy Story</td>\n",
       "      <td>30000000.0</td>\n",
       "      <td>21.946943</td>\n",
       "      <td>373554033.0</td>\n",
       "      <td>81.0</td>\n",
       "      <td>7.7</td>\n",
       "      <td>5415.0</td>\n",
       "      <td>343554033.0</td>\n",
       "      <td>1</td>\n",
       "      <td>...</td>\n",
       "      <td>0</td>\n",
       "      <td>0</td>\n",
       "      <td>0</td>\n",
       "      <td>0</td>\n",
       "      <td>0</td>\n",
       "      <td>0</td>\n",
       "      <td>0</td>\n",
       "      <td>0</td>\n",
       "      <td>0</td>\n",
       "      <td>0</td>\n",
       "    </tr>\n",
       "    <tr>\n",
       "      <td>1</td>\n",
       "      <td>3</td>\n",
       "      <td>Jumanji</td>\n",
       "      <td>65000000.0</td>\n",
       "      <td>17.015539</td>\n",
       "      <td>262797249.0</td>\n",
       "      <td>104.0</td>\n",
       "      <td>6.9</td>\n",
       "      <td>2413.0</td>\n",
       "      <td>197797249.0</td>\n",
       "      <td>0</td>\n",
       "      <td>...</td>\n",
       "      <td>0</td>\n",
       "      <td>0</td>\n",
       "      <td>0</td>\n",
       "      <td>0</td>\n",
       "      <td>0</td>\n",
       "      <td>0</td>\n",
       "      <td>0</td>\n",
       "      <td>0</td>\n",
       "      <td>0</td>\n",
       "      <td>0</td>\n",
       "    </tr>\n",
       "    <tr>\n",
       "      <td>2</td>\n",
       "      <td>2</td>\n",
       "      <td>Grumpier Old Men</td>\n",
       "      <td>0.0</td>\n",
       "      <td>11.712900</td>\n",
       "      <td>0.0</td>\n",
       "      <td>101.0</td>\n",
       "      <td>6.5</td>\n",
       "      <td>92.0</td>\n",
       "      <td>0.0</td>\n",
       "      <td>0</td>\n",
       "      <td>...</td>\n",
       "      <td>0</td>\n",
       "      <td>0</td>\n",
       "      <td>0</td>\n",
       "      <td>0</td>\n",
       "      <td>0</td>\n",
       "      <td>0</td>\n",
       "      <td>0</td>\n",
       "      <td>0</td>\n",
       "      <td>0</td>\n",
       "      <td>0</td>\n",
       "    </tr>\n",
       "    <tr>\n",
       "      <td>3</td>\n",
       "      <td>3</td>\n",
       "      <td>Waiting to Exhale</td>\n",
       "      <td>16000000.0</td>\n",
       "      <td>3.859495</td>\n",
       "      <td>81452156.0</td>\n",
       "      <td>127.0</td>\n",
       "      <td>6.1</td>\n",
       "      <td>34.0</td>\n",
       "      <td>65452156.0</td>\n",
       "      <td>0</td>\n",
       "      <td>...</td>\n",
       "      <td>0</td>\n",
       "      <td>0</td>\n",
       "      <td>0</td>\n",
       "      <td>0</td>\n",
       "      <td>0</td>\n",
       "      <td>0</td>\n",
       "      <td>0</td>\n",
       "      <td>0</td>\n",
       "      <td>0</td>\n",
       "      <td>0</td>\n",
       "    </tr>\n",
       "    <tr>\n",
       "      <td>4</td>\n",
       "      <td>1</td>\n",
       "      <td>Father of the Bride Part II</td>\n",
       "      <td>0.0</td>\n",
       "      <td>8.387519</td>\n",
       "      <td>76578911.0</td>\n",
       "      <td>106.0</td>\n",
       "      <td>5.7</td>\n",
       "      <td>173.0</td>\n",
       "      <td>76578911.0</td>\n",
       "      <td>0</td>\n",
       "      <td>...</td>\n",
       "      <td>0</td>\n",
       "      <td>0</td>\n",
       "      <td>0</td>\n",
       "      <td>0</td>\n",
       "      <td>0</td>\n",
       "      <td>0</td>\n",
       "      <td>0</td>\n",
       "      <td>0</td>\n",
       "      <td>0</td>\n",
       "      <td>0</td>\n",
       "    </tr>\n",
       "  </tbody>\n",
       "</table>\n",
       "<p>5 rows × 30 columns</p>\n",
       "</div>"
      ],
      "text/plain": [
       "   genres                        title      budget  popularity      revenue  \\\n",
       "0       3                    Toy Story  30000000.0   21.946943  373554033.0   \n",
       "1       3                      Jumanji  65000000.0   17.015539  262797249.0   \n",
       "2       2             Grumpier Old Men         0.0   11.712900          0.0   \n",
       "3       3            Waiting to Exhale  16000000.0    3.859495   81452156.0   \n",
       "4       1  Father of the Bride Part II         0.0    8.387519   76578911.0   \n",
       "\n",
       "   runtime  vote_average  vote_count       profit  is_Animation  ...  \\\n",
       "0     81.0           7.7      5415.0  343554033.0             1  ...   \n",
       "1    104.0           6.9      2413.0  197797249.0             0  ...   \n",
       "2    101.0           6.5        92.0          0.0             0  ...   \n",
       "3    127.0           6.1        34.0   65452156.0             0  ...   \n",
       "4    106.0           5.7       173.0   76578911.0             0  ...   \n",
       "\n",
       "   is_History  is_Science Fiction  is_Mystery  is_War  is_Foreign  is_nan  \\\n",
       "0           0                   0           0       0           0       0   \n",
       "1           0                   0           0       0           0       0   \n",
       "2           0                   0           0       0           0       0   \n",
       "3           0                   0           0       0           0       0   \n",
       "4           0                   0           0       0           0       0   \n",
       "\n",
       "   is_Music  is_Documentary  is_Western  is_TV Movie  \n",
       "0         0               0           0            0  \n",
       "1         0               0           0            0  \n",
       "2         0               0           0            0  \n",
       "3         0               0           0            0  \n",
       "4         0               0           0            0  \n",
       "\n",
       "[5 rows x 30 columns]"
      ]
     },
     "execution_count": 10,
     "metadata": {},
     "output_type": "execute_result"
    }
   ],
   "source": [
    "mov_data.head()"
   ]
  },
  {
   "cell_type": "code",
   "execution_count": 11,
   "metadata": {},
   "outputs": [],
   "source": [
    "# remove movies lacking data; focus on feature-length, bigger budget\n",
    "mov_data = mov_data[mov_data.budget >= 100000]\n",
    "mov_data = mov_data[mov_data.runtime > 60]\n",
    "mov_data = mov_data[mov_data.revenue > 2000]\n",
    "mov_data = mov_data[mov_data.vote_average > 0]"
   ]
  },
  {
   "cell_type": "code",
   "execution_count": 12,
   "metadata": {},
   "outputs": [
    {
     "name": "stdout",
     "output_type": "stream",
     "text": [
      "<class 'pandas.core.frame.DataFrame'>\n",
      "Int64Index: 5241 entries, 0 to 45422\n",
      "Data columns (total 30 columns):\n",
      "genres                5241 non-null int64\n",
      "title                 5241 non-null object\n",
      "budget                5241 non-null float64\n",
      "popularity            5241 non-null float64\n",
      "revenue               5241 non-null float64\n",
      "runtime               5241 non-null float64\n",
      "vote_average          5241 non-null float64\n",
      "vote_count            5241 non-null float64\n",
      "profit                5241 non-null float64\n",
      "is_Animation          5241 non-null int64\n",
      "is_Comedy             5241 non-null int64\n",
      "is_Family             5241 non-null int64\n",
      "is_Adventure          5241 non-null int64\n",
      "is_Fantasy            5241 non-null int64\n",
      "is_Romance            5241 non-null int64\n",
      "is_Drama              5241 non-null int64\n",
      "is_Action             5241 non-null int64\n",
      "is_Crime              5241 non-null int64\n",
      "is_Thriller           5241 non-null int64\n",
      "is_Horror             5241 non-null int64\n",
      "is_History            5241 non-null int64\n",
      "is_Science Fiction    5241 non-null int64\n",
      "is_Mystery            5241 non-null int64\n",
      "is_War                5241 non-null int64\n",
      "is_Foreign            5241 non-null int64\n",
      "is_nan                5241 non-null int64\n",
      "is_Music              5241 non-null int64\n",
      "is_Documentary        5241 non-null int64\n",
      "is_Western            5241 non-null int64\n",
      "is_TV Movie           5241 non-null int64\n",
      "dtypes: float64(7), int64(22), object(1)\n",
      "memory usage: 1.2+ MB\n"
     ]
    }
   ],
   "source": [
    "mov_data.info()"
   ]
  },
  {
   "cell_type": "markdown",
   "metadata": {},
   "source": [
    "## Lasso regression"
   ]
  },
  {
   "cell_type": "code",
   "execution_count": 13,
   "metadata": {},
   "outputs": [
    {
     "data": {
      "text/plain": [
       "Index(['genres', 'budget', 'popularity', 'revenue', 'runtime', 'vote_average',\n",
       "       'vote_count', 'is_Animation', 'is_Comedy', 'is_Family', 'is_Adventure',\n",
       "       'is_Fantasy', 'is_Romance', 'is_Drama', 'is_Action', 'is_Crime',\n",
       "       'is_Thriller', 'is_Horror', 'is_History', 'is_Science Fiction',\n",
       "       'is_Mystery', 'is_War', 'is_Foreign', 'is_Music', 'is_Documentary',\n",
       "       'is_Western', 'is_TV Movie'],\n",
       "      dtype='object')"
      ]
     },
     "execution_count": 13,
     "metadata": {},
     "output_type": "execute_result"
    }
   ],
   "source": [
    "# Create DF for regression model\n",
    "reg_data = mov_data.drop(['is_nan','title','profit'], axis=1)\n",
    "reg_data.columns"
   ]
  },
  {
   "cell_type": "code",
   "execution_count": 14,
   "metadata": {},
   "outputs": [],
   "source": [
    "# Rescale data so that all the features are approximately on the same scale\n",
    "scaler = StandardScaler()\n",
    "scaled = scaler.fit_transform(reg_data)\n",
    "\n",
    "# Convert back from array to dataframe\n",
    "data_scaled = pd.DataFrame(scaled, columns=reg_data.columns)"
   ]
  },
  {
   "cell_type": "code",
   "execution_count": 15,
   "metadata": {},
   "outputs": [],
   "source": [
    "# split data into a training and test set:\n",
    "X_scaled = data_scaled.drop(columns=['revenue'])\n",
    "y_scaled = data_scaled[['revenue']]\n",
    "\n",
    "# Split X and y into X_\n",
    "X_train_scaled, X_test_scaled, y_train_scaled, y_test_scaled = train_test_split(X_scaled, y_scaled, test_size=0.2, random_state=1)"
   ]
  },
  {
   "cell_type": "code",
   "execution_count": 16,
   "metadata": {},
   "outputs": [
    {
     "name": "stdout",
     "output_type": "stream",
     "text": [
      "Lasso.coef_: [-0.          0.39631924  0.0839708   0.04666591 -0.          0.49362944\n",
      "  0.03053619  0.01552279  0.03574517  0.03435151  0.01167732  0.02757505\n",
      " -0.02768336 -0.00995936 -0.01969385 -0.0146953   0.01434514 -0.01355078\n",
      " -0.04405253 -0.00564264 -0.00879743  0.00133292  0.0108292   0.01138319\n",
      " -0.02357158  0.00475404]\n",
      "Lasso.intercept_: [0.00189067]\n",
      "Lasso training set score: 0.74\n",
      "Lasso test set score: 0.65\n",
      "Number of features used: 24\n"
     ]
    }
   ],
   "source": [
    "# Create lasso model\n",
    "lasso = Lasso(alpha=.001, max_iter=1000, normalize=False).fit(X_train_scaled, y_train_scaled)\n",
    "\n",
    "print(\"Lasso.coef_:\", lasso.coef_)\n",
    "print(\"Lasso.intercept_:\", lasso.intercept_)\n",
    "print(\"Lasso training set score: {:.2f}\".format(lasso.score(X_train_scaled, y_train_scaled)))\n",
    "print(\"Lasso test set score: {:.2f}\".format(lasso.score(X_test_scaled, y_test_scaled)))\n",
    "    \n",
    "print(\"Number of features used:\", np.sum(lasso.coef_ != 0))"
   ]
  },
  {
   "cell_type": "code",
   "execution_count": 17,
   "metadata": {
    "scrolled": true
   },
   "outputs": [
    {
     "name": "stdout",
     "output_type": "stream",
     "text": [
      "The Lasso coefficient for genres is -0.0\n",
      "The Lasso coefficient for budget is 0.3963192405592033\n",
      "The Lasso coefficient for popularity is 0.0839708025881729\n",
      "The Lasso coefficient for runtime is 0.0466659061236744\n",
      "The Lasso coefficient for vote_average is -0.0\n",
      "The Lasso coefficient for vote_count is 0.4936294384861946\n",
      "The Lasso coefficient for is_Animation is 0.03053618599862236\n",
      "The Lasso coefficient for is_Comedy is 0.015522787755250804\n",
      "The Lasso coefficient for is_Family is 0.03574516654442649\n",
      "The Lasso coefficient for is_Adventure is 0.0343515111453366\n",
      "The Lasso coefficient for is_Fantasy is 0.011677317609206088\n",
      "The Lasso coefficient for is_Romance is 0.02757504744513524\n",
      "The Lasso coefficient for is_Drama is -0.027683357703140513\n",
      "The Lasso coefficient for is_Action is -0.009959362917603602\n",
      "The Lasso coefficient for is_Crime is -0.019693848788657816\n",
      "The Lasso coefficient for is_Thriller is -0.014695297919068966\n",
      "The Lasso coefficient for is_Horror is 0.014345142933208387\n",
      "The Lasso coefficient for is_History is -0.01355078205929017\n",
      "The Lasso coefficient for is_Science Fiction is -0.04405253095442054\n",
      "The Lasso coefficient for is_Mystery is -0.005642643883972261\n",
      "The Lasso coefficient for is_War is -0.00879743079732809\n",
      "The Lasso coefficient for is_Foreign is 0.0013329221648390281\n",
      "The Lasso coefficient for is_Music is 0.01082920019917058\n",
      "The Lasso coefficient for is_Documentary is 0.011383188510781204\n",
      "The Lasso coefficient for is_Western is -0.023571581059049863\n",
      "The Lasso coefficient for is_TV Movie is 0.004754042732124143\n",
      "The Lasso intercept for our model is [0.00189067]\n"
     ]
    }
   ],
   "source": [
    "# print coefficients with feature names\n",
    "for idx, col_name in enumerate(X_train_scaled.columns):\n",
    "    print(\"The Lasso coefficient for {} is {}\".format(col_name, lasso.coef_[idx]))\n",
    "    \n",
    "print(\"The Lasso intercept for our model is {}\".format(lasso.intercept_))"
   ]
  },
  {
   "cell_type": "code",
   "execution_count": 18,
   "metadata": {},
   "outputs": [
    {
     "name": "stdout",
     "output_type": "stream",
     "text": [
      "Lasso MSE 0.4928057606369254 \n"
     ]
    }
   ],
   "source": [
    "# calculate MSE\n",
    "y_predict = lasso.predict(X_test_scaled)\n",
    "lasso_model_mse = mean_squared_error(y_predict, y_test_scaled)\n",
    "mseRoot = math.sqrt(lasso_model_mse)\n",
    "\n",
    "print(\"Lasso MSE %s \" % mseRoot)"
   ]
  },
  {
   "cell_type": "markdown",
   "metadata": {},
   "source": [
    "## Clustering"
   ]
  },
  {
   "cell_type": "code",
   "execution_count": 19,
   "metadata": {},
   "outputs": [
    {
     "data": {
      "text/plain": [
       "Index(['budget', 'popularity', 'revenue', 'runtime', 'vote_average',\n",
       "       'vote_count', 'profit'],\n",
       "      dtype='object')"
      ]
     },
     "execution_count": 19,
     "metadata": {},
     "output_type": "execute_result"
    }
   ],
   "source": [
    "# Note some variation in cluster data vs. paper, due to re-run of model after paper analysis. All settings and parameters are unchanged.\n",
    "# Add profit to numeric columns list\n",
    "num_cols.append('profit')\n",
    "\n",
    "# Create DF for clustering model; exclude genres, which are obvious clusters on their own\n",
    "cluster_data = mov_data[num_cols].copy()\n",
    "cluster_data.columns"
   ]
  },
  {
   "cell_type": "code",
   "execution_count": 20,
   "metadata": {},
   "outputs": [],
   "source": [
    "# Rescale data so that all the features are approximately on the same scale\n",
    "c_scaler = StandardScaler()\n",
    "c_scaled = scaler.fit_transform(cluster_data)\n",
    "\n",
    "# Convert back from array to dataframe\n",
    "c_data_scaled = pd.DataFrame(c_scaled, columns=cluster_data.columns)"
   ]
  },
  {
   "cell_type": "code",
   "execution_count": 21,
   "metadata": {},
   "outputs": [
    {
     "data": {
      "image/png": "[encoded data removed]",
      "text/plain": [
       "<Figure size 576x396 with 2 Axes>"
      ]
     },
     "metadata": {},
     "output_type": "display_data"
    },
    {
     "data": {
      "text/plain": [
       "<matplotlib.axes._subplots.AxesSubplot at 0x1ac9ee72408>"
      ]
     },
     "execution_count": 21,
     "metadata": {},
     "output_type": "execute_result"
    }
   ],
   "source": [
    "# determine number of k clusters using the Elbow method\n",
    "from sklearn.cluster import KMeans\n",
    "from yellowbrick.cluster import KElbowVisualizer, SilhouetteVisualizer\n",
    "\n",
    "model = KMeans()\n",
    "visualizer = KElbowVisualizer(model, k=(1,20))\n",
    "X = np.array(c_data_scaled)\n",
    "\n",
    "visualizer.fit(X)        # Fit the data to the visualizer\n",
    "visualizer.show()        # Finalize and render the figure"
   ]
  },
  {
   "cell_type": "code",
   "execution_count": 22,
   "metadata": {},
   "outputs": [
    {
     "data": {
      "image/png": "[encoded data removed]",
      "text/plain": [
       "<Figure size 576x396 with 1 Axes>"
      ]
     },
     "metadata": {},
     "output_type": "display_data"
    },
    {
     "data": {
      "text/plain": [
       "<matplotlib.axes._subplots.AxesSubplot at 0x1ac9ef7f988>"
      ]
     },
     "execution_count": 22,
     "metadata": {},
     "output_type": "execute_result"
    }
   ],
   "source": [
    "model = KMeans(6)\n",
    "visualizer = SilhouetteVisualizer(model)\n",
    "\n",
    "visualizer.fit(X)        # Fit the data to the visualizer\n",
    "visualizer.show()        # Finalize and render the figure"
   ]
  },
  {
   "cell_type": "code",
   "execution_count": 23,
   "metadata": {},
   "outputs": [
    {
     "data": {
      "text/plain": [
       "0.2312137431026712"
      ]
     },
     "execution_count": 23,
     "metadata": {},
     "output_type": "execute_result"
    }
   ],
   "source": [
    "# check silhouette score\n",
    "visualizer.silhouette_score_"
   ]
  },
  {
   "cell_type": "code",
   "execution_count": 24,
   "metadata": {},
   "outputs": [],
   "source": [
    "# Number of clusters\n",
    "kmeans = KMeans(n_clusters=6)\n",
    "# Fitting the input data\n",
    "kmeans = kmeans.fit(X)\n",
    "# Getting the cluster labels\n",
    "labels = kmeans.predict(X)\n",
    "# Centroid values\n",
    "centroids = kmeans.cluster_centers_\n",
    "\n",
    "labels = kmeans.labels_"
   ]
  },
  {
   "cell_type": "code",
   "execution_count": 25,
   "metadata": {},
   "outputs": [],
   "source": [
    "mov_data['cluster'] = labels\n",
    "cluster_data['cluster'] = labels"
   ]
  },
  {
   "cell_type": "code",
   "execution_count": 26,
   "metadata": {},
   "outputs": [
    {
     "data": {
      "text/html": [
       "<div>\n",
       "<style scoped>\n",
       "    .dataframe tbody tr th:only-of-type {\n",
       "        vertical-align: middle;\n",
       "    }\n",
       "\n",
       "    .dataframe tbody tr th {\n",
       "        vertical-align: top;\n",
       "    }\n",
       "\n",
       "    .dataframe thead th {\n",
       "        text-align: right;\n",
       "    }\n",
       "</style>\n",
       "<table border=\"1\" class=\"dataframe\">\n",
       "  <thead>\n",
       "    <tr style=\"text-align: right;\">\n",
       "      <th></th>\n",
       "      <th>genres</th>\n",
       "      <th>title</th>\n",
       "      <th>budget</th>\n",
       "      <th>popularity</th>\n",
       "      <th>revenue</th>\n",
       "      <th>runtime</th>\n",
       "      <th>vote_average</th>\n",
       "      <th>vote_count</th>\n",
       "      <th>profit</th>\n",
       "      <th>is_Animation</th>\n",
       "      <th>...</th>\n",
       "      <th>is_Science Fiction</th>\n",
       "      <th>is_Mystery</th>\n",
       "      <th>is_War</th>\n",
       "      <th>is_Foreign</th>\n",
       "      <th>is_nan</th>\n",
       "      <th>is_Music</th>\n",
       "      <th>is_Documentary</th>\n",
       "      <th>is_Western</th>\n",
       "      <th>is_TV Movie</th>\n",
       "      <th>cluster</th>\n",
       "    </tr>\n",
       "  </thead>\n",
       "  <tbody>\n",
       "    <tr>\n",
       "      <td>0</td>\n",
       "      <td>3</td>\n",
       "      <td>Toy Story</td>\n",
       "      <td>30000000.0</td>\n",
       "      <td>21.946943</td>\n",
       "      <td>373554033.0</td>\n",
       "      <td>81.0</td>\n",
       "      <td>7.7</td>\n",
       "      <td>5415.0</td>\n",
       "      <td>343554033.0</td>\n",
       "      <td>1</td>\n",
       "      <td>...</td>\n",
       "      <td>0</td>\n",
       "      <td>0</td>\n",
       "      <td>0</td>\n",
       "      <td>0</td>\n",
       "      <td>0</td>\n",
       "      <td>0</td>\n",
       "      <td>0</td>\n",
       "      <td>0</td>\n",
       "      <td>0</td>\n",
       "      <td>1</td>\n",
       "    </tr>\n",
       "    <tr>\n",
       "      <td>1</td>\n",
       "      <td>3</td>\n",
       "      <td>Jumanji</td>\n",
       "      <td>65000000.0</td>\n",
       "      <td>17.015539</td>\n",
       "      <td>262797249.0</td>\n",
       "      <td>104.0</td>\n",
       "      <td>6.9</td>\n",
       "      <td>2413.0</td>\n",
       "      <td>197797249.0</td>\n",
       "      <td>0</td>\n",
       "      <td>...</td>\n",
       "      <td>0</td>\n",
       "      <td>0</td>\n",
       "      <td>0</td>\n",
       "      <td>0</td>\n",
       "      <td>0</td>\n",
       "      <td>0</td>\n",
       "      <td>0</td>\n",
       "      <td>0</td>\n",
       "      <td>0</td>\n",
       "      <td>1</td>\n",
       "    </tr>\n",
       "    <tr>\n",
       "      <td>3</td>\n",
       "      <td>3</td>\n",
       "      <td>Waiting to Exhale</td>\n",
       "      <td>16000000.0</td>\n",
       "      <td>3.859495</td>\n",
       "      <td>81452156.0</td>\n",
       "      <td>127.0</td>\n",
       "      <td>6.1</td>\n",
       "      <td>34.0</td>\n",
       "      <td>65452156.0</td>\n",
       "      <td>0</td>\n",
       "      <td>...</td>\n",
       "      <td>0</td>\n",
       "      <td>0</td>\n",
       "      <td>0</td>\n",
       "      <td>0</td>\n",
       "      <td>0</td>\n",
       "      <td>0</td>\n",
       "      <td>0</td>\n",
       "      <td>0</td>\n",
       "      <td>0</td>\n",
       "      <td>2</td>\n",
       "    </tr>\n",
       "    <tr>\n",
       "      <td>5</td>\n",
       "      <td>4</td>\n",
       "      <td>Heat</td>\n",
       "      <td>60000000.0</td>\n",
       "      <td>17.924927</td>\n",
       "      <td>187436818.0</td>\n",
       "      <td>170.0</td>\n",
       "      <td>7.7</td>\n",
       "      <td>1886.0</td>\n",
       "      <td>127436818.0</td>\n",
       "      <td>0</td>\n",
       "      <td>...</td>\n",
       "      <td>0</td>\n",
       "      <td>0</td>\n",
       "      <td>0</td>\n",
       "      <td>0</td>\n",
       "      <td>0</td>\n",
       "      <td>0</td>\n",
       "      <td>0</td>\n",
       "      <td>0</td>\n",
       "      <td>0</td>\n",
       "      <td>2</td>\n",
       "    </tr>\n",
       "    <tr>\n",
       "      <td>8</td>\n",
       "      <td>3</td>\n",
       "      <td>Sudden Death</td>\n",
       "      <td>35000000.0</td>\n",
       "      <td>5.231580</td>\n",
       "      <td>64350171.0</td>\n",
       "      <td>106.0</td>\n",
       "      <td>5.5</td>\n",
       "      <td>174.0</td>\n",
       "      <td>29350171.0</td>\n",
       "      <td>0</td>\n",
       "      <td>...</td>\n",
       "      <td>0</td>\n",
       "      <td>0</td>\n",
       "      <td>0</td>\n",
       "      <td>0</td>\n",
       "      <td>0</td>\n",
       "      <td>0</td>\n",
       "      <td>0</td>\n",
       "      <td>0</td>\n",
       "      <td>0</td>\n",
       "      <td>5</td>\n",
       "    </tr>\n",
       "  </tbody>\n",
       "</table>\n",
       "<p>5 rows × 31 columns</p>\n",
       "</div>"
      ],
      "text/plain": [
       "   genres              title      budget  popularity      revenue  runtime  \\\n",
       "0       3          Toy Story  30000000.0   21.946943  373554033.0     81.0   \n",
       "1       3            Jumanji  65000000.0   17.015539  262797249.0    104.0   \n",
       "3       3  Waiting to Exhale  16000000.0    3.859495   81452156.0    127.0   \n",
       "5       4               Heat  60000000.0   17.924927  187436818.0    170.0   \n",
       "8       3       Sudden Death  35000000.0    5.231580   64350171.0    106.0   \n",
       "\n",
       "   vote_average  vote_count       profit  is_Animation  ...  \\\n",
       "0           7.7      5415.0  343554033.0             1  ...   \n",
       "1           6.9      2413.0  197797249.0             0  ...   \n",
       "3           6.1        34.0   65452156.0             0  ...   \n",
       "5           7.7      1886.0  127436818.0             0  ...   \n",
       "8           5.5       174.0   29350171.0             0  ...   \n",
       "\n",
       "   is_Science Fiction  is_Mystery  is_War  is_Foreign  is_nan  is_Music  \\\n",
       "0                   0           0       0           0       0         0   \n",
       "1                   0           0       0           0       0         0   \n",
       "3                   0           0       0           0       0         0   \n",
       "5                   0           0       0           0       0         0   \n",
       "8                   0           0       0           0       0         0   \n",
       "\n",
       "   is_Documentary  is_Western  is_TV Movie  cluster  \n",
       "0               0           0            0        1  \n",
       "1               0           0            0        1  \n",
       "3               0           0            0        2  \n",
       "5               0           0            0        2  \n",
       "8               0           0            0        5  \n",
       "\n",
       "[5 rows x 31 columns]"
      ]
     },
     "execution_count": 26,
     "metadata": {},
     "output_type": "execute_result"
    }
   ],
   "source": [
    "mov_data.head()"
   ]
  },
  {
   "cell_type": "code",
   "execution_count": 29,
   "metadata": {},
   "outputs": [
    {
     "data": {
      "image/png": "[encoded data removed]",
      "text/plain": [
       "<Figure size 1296x216 with 6 Axes>"
      ]
     },
     "metadata": {},
     "output_type": "display_data"
    },
    {
     "data": {
      "image/png": "[encoded data removed]",
      "text/plain": [
       "<Figure size 1296x216 with 6 Axes>"
      ]
     },
     "metadata": {},
     "output_type": "display_data"
    },
    {
     "data": {
      "image/png": "[encoded data removed]",
      "text/plain": [
       "<Figure size 1296x216 with 6 Axes>"
      ]
     },
     "metadata": {},
     "output_type": "display_data"
    },
    {
     "data": {
      "image/png": "[encoded data removed]",
      "text/plain": [
       "<Figure size 1296x216 with 6 Axes>"
      ]
     },
     "metadata": {},
     "output_type": "display_data"
    },
    {
     "data": {
      "image/png": "[encoded data removed]",
      "text/plain": [
       "<Figure size 1296x216 with 6 Axes>"
      ]
     },
     "metadata": {},
     "output_type": "display_data"
    },
    {
     "data": {
      "image/png": "[encoded data removed]",
      "text/plain": [
       "<Figure size 1296x216 with 6 Axes>"
      ]
     },
     "metadata": {},
     "output_type": "display_data"
    },
    {
     "data": {
      "image/png": "[encoded data removed]",
      "text/plain": [
       "<Figure size 1296x216 with 6 Axes>"
      ]
     },
     "metadata": {},
     "output_type": "display_data"
    },
    {
     "data": {
      "image/png": "[encoded data removed]",
      "text/plain": [
       "<Figure size 1296x216 with 6 Axes>"
      ]
     },
     "metadata": {},
     "output_type": "display_data"
    }
   ],
   "source": [
    "# Visualize resulting clusters\n",
    "for cluster in cluster_data:\n",
    "    grid = sns.FacetGrid(cluster_data, col='cluster')\n",
    "    grid.map(plt.hist, cluster)"
   ]
  },
  {
   "cell_type": "code",
   "execution_count": 30,
   "metadata": {},
   "outputs": [
    {
     "data": {
      "text/html": [
       "<div>\n",
       "<style scoped>\n",
       "    .dataframe tbody tr th:only-of-type {\n",
       "        vertical-align: middle;\n",
       "    }\n",
       "\n",
       "    .dataframe tbody tr th {\n",
       "        vertical-align: top;\n",
       "    }\n",
       "\n",
       "    .dataframe thead th {\n",
       "        text-align: right;\n",
       "    }\n",
       "</style>\n",
       "<table border=\"1\" class=\"dataframe\">\n",
       "  <thead>\n",
       "    <tr style=\"text-align: right;\">\n",
       "      <th></th>\n",
       "      <th>budget</th>\n",
       "      <th>popularity</th>\n",
       "      <th>revenue</th>\n",
       "      <th>runtime</th>\n",
       "      <th>vote_average</th>\n",
       "      <th>vote_count</th>\n",
       "      <th>profit</th>\n",
       "    </tr>\n",
       "    <tr>\n",
       "      <th>cluster</th>\n",
       "      <th></th>\n",
       "      <th></th>\n",
       "      <th></th>\n",
       "      <th></th>\n",
       "      <th></th>\n",
       "      <th></th>\n",
       "      <th></th>\n",
       "    </tr>\n",
       "  </thead>\n",
       "  <tbody>\n",
       "    <tr>\n",
       "      <td>0</td>\n",
       "      <td>1.435231e+07</td>\n",
       "      <td>8.470680</td>\n",
       "      <td>3.828456e+07</td>\n",
       "      <td>103.772431</td>\n",
       "      <td>6.730877</td>\n",
       "      <td>466.307268</td>\n",
       "      <td>2.393225e+07</td>\n",
       "    </tr>\n",
       "    <tr>\n",
       "      <td>1</td>\n",
       "      <td>8.154631e+07</td>\n",
       "      <td>14.883908</td>\n",
       "      <td>2.665846e+08</td>\n",
       "      <td>114.961019</td>\n",
       "      <td>6.471814</td>\n",
       "      <td>2051.809595</td>\n",
       "      <td>1.850383e+08</td>\n",
       "    </tr>\n",
       "    <tr>\n",
       "      <td>2</td>\n",
       "      <td>2.418778e+07</td>\n",
       "      <td>8.085015</td>\n",
       "      <td>5.072296e+07</td>\n",
       "      <td>144.329829</td>\n",
       "      <td>6.864915</td>\n",
       "      <td>426.542707</td>\n",
       "      <td>2.653518e+07</td>\n",
       "    </tr>\n",
       "    <tr>\n",
       "      <td>3</td>\n",
       "      <td>1.502910e+08</td>\n",
       "      <td>23.777244</td>\n",
       "      <td>7.807557e+08</td>\n",
       "      <td>128.006667</td>\n",
       "      <td>7.026000</td>\n",
       "      <td>5309.506667</td>\n",
       "      <td>6.304647e+08</td>\n",
       "    </tr>\n",
       "    <tr>\n",
       "      <td>4</td>\n",
       "      <td>1.317500e+08</td>\n",
       "      <td>206.561415</td>\n",
       "      <td>8.310870e+08</td>\n",
       "      <td>129.625000</td>\n",
       "      <td>7.256250</td>\n",
       "      <td>6390.687500</td>\n",
       "      <td>6.993370e+08</td>\n",
       "    </tr>\n",
       "    <tr>\n",
       "      <td>5</td>\n",
       "      <td>2.484293e+07</td>\n",
       "      <td>7.451255</td>\n",
       "      <td>3.749901e+07</td>\n",
       "      <td>99.044189</td>\n",
       "      <td>5.330690</td>\n",
       "      <td>245.437651</td>\n",
       "      <td>1.265609e+07</td>\n",
       "    </tr>\n",
       "  </tbody>\n",
       "</table>\n",
       "</div>"
      ],
      "text/plain": [
       "               budget  popularity       revenue     runtime  vote_average  \\\n",
       "cluster                                                                     \n",
       "0        1.435231e+07    8.470680  3.828456e+07  103.772431      6.730877   \n",
       "1        8.154631e+07   14.883908  2.665846e+08  114.961019      6.471814   \n",
       "2        2.418778e+07    8.085015  5.072296e+07  144.329829      6.864915   \n",
       "3        1.502910e+08   23.777244  7.807557e+08  128.006667      7.026000   \n",
       "4        1.317500e+08  206.561415  8.310870e+08  129.625000      7.256250   \n",
       "5        2.484293e+07    7.451255  3.749901e+07   99.044189      5.330690   \n",
       "\n",
       "          vote_count        profit  \n",
       "cluster                             \n",
       "0         466.307268  2.393225e+07  \n",
       "1        2051.809595  1.850383e+08  \n",
       "2         426.542707  2.653518e+07  \n",
       "3        5309.506667  6.304647e+08  \n",
       "4        6390.687500  6.993370e+08  \n",
       "5         245.437651  1.265609e+07  "
      ]
     },
     "execution_count": 30,
     "metadata": {},
     "output_type": "execute_result"
    }
   ],
   "source": [
    "# Feature overview of clusters\n",
    "cluster_means = pd.DataFrame(cluster_data.groupby(['cluster']).mean())\n",
    "cluster_means.head(6)"
   ]
  },
  {
   "cell_type": "code",
   "execution_count": 31,
   "metadata": {},
   "outputs": [],
   "source": [
    "cluster_means.to_excel('cluster_means.xls')"
   ]
  },
  {
   "cell_type": "code",
   "execution_count": 32,
   "metadata": {},
   "outputs": [
    {
     "data": {
      "text/plain": [
       "0    1995\n",
       "5    1652\n",
       "2     761\n",
       "1     667\n",
       "3     150\n",
       "4      16\n",
       "Name: cluster, dtype: int64"
      ]
     },
     "execution_count": 32,
     "metadata": {},
     "output_type": "execute_result"
    }
   ],
   "source": [
    "# Examine size of each cluster\n",
    "cluster_data['cluster'].value_counts()"
   ]
  },
  {
   "cell_type": "code",
   "execution_count": 33,
   "metadata": {},
   "outputs": [
    {
     "name": "stdout",
     "output_type": "stream",
     "text": [
      "[[-0.43312703 -0.10651388 -0.3234721  -0.30747193  0.49775708 -0.22462808\n",
      "  -0.26061628]\n",
      " [ 1.22951755  0.35363611  1.03773792  0.21461904  0.20878906  1.03110346\n",
      "   0.8819192 ]\n",
      " [-0.19223091 -0.13386439 -0.2491652   1.58935317  0.65278171 -0.25510625\n",
      "  -0.24124921]\n",
      " [ 2.93159399  0.99136777  4.10396782  0.82413783  0.83173648  3.61017669\n",
      "   4.04078538]\n",
      " [ 2.47253015 14.09862554  4.40411596  0.89974961  1.09055512  4.46613244\n",
      "   4.52921295]\n",
      " [-0.17402751 -0.17926038 -0.32879136 -0.52926899 -1.07581608 -0.39904381\n",
      "  -0.34115533]]\n"
     ]
    }
   ],
   "source": [
    "# Comparing with scikit-learn centroids\n",
    "\n",
    "print(centroids) # From sci-kit learn"
   ]
  }
 ],
 "metadata": {
  "kernelspec": {
   "display_name": "Python 3",
   "language": "python",
   "name": "python3"
  },
  "language_info": {
   "codemirror_mode": {
    "name": "ipython",
    "version": 3
   },
   "file_extension": ".py",
   "mimetype": "text/x-python",
   "name": "python",
   "nbconvert_exporter": "python",
   "pygments_lexer": "ipython3",
   "version": "3.7.4"
  }
 },
 "nbformat": 4,
 "nbformat_minor": 2
}
