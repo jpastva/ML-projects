{
 "cells": [
  {
   "cell_type": "markdown",
   "metadata": {},
   "source": [
    "Analysis employs various ML regression techniques to identify marketing channels most associated with product sales."
   ]
  },
  {
   "cell_type": "code",
   "execution_count": 1,
   "metadata": {},
   "outputs": [],
   "source": [
    "import pandas as pd\n",
    "import numpy as np\n",
    "import math\n",
    "import seaborn as sns\n",
    "import matplotlib.pyplot as plt\n",
    "from scipy import stats\n",
    "from sklearn.linear_model import LinearRegression\n",
    "from sklearn.model_selection import train_test_split\n",
    "from sklearn.metrics import mean_squared_error\n",
    "from sklearn.linear_model import LinearRegression\n",
    "from sklearn.linear_model import Ridge\n",
    "from sklearn.linear_model import Lasso\n",
    "from sklearn.model_selection import KFold"
   ]
  },
  {
   "cell_type": "code",
   "execution_count": 2,
   "metadata": {},
   "outputs": [],
   "source": [
    "# Import the dataset - columns - TV, radio, newspaper, Google, Facebook, Linkedin, and sales\n",
    "dataset = pd.read_csv('Marketing.csv')"
   ]
  },
  {
   "cell_type": "markdown",
   "metadata": {},
   "source": [
    "## Data analysis"
   ]
  },
  {
   "cell_type": "code",
   "execution_count": 3,
   "metadata": {},
   "outputs": [
    {
     "data": {
      "text/html": [
       "<div>\n",
       "<style scoped>\n",
       "    .dataframe tbody tr th:only-of-type {\n",
       "        vertical-align: middle;\n",
       "    }\n",
       "\n",
       "    .dataframe tbody tr th {\n",
       "        vertical-align: top;\n",
       "    }\n",
       "\n",
       "    .dataframe thead th {\n",
       "        text-align: right;\n",
       "    }\n",
       "</style>\n",
       "<table border=\"1\" class=\"dataframe\">\n",
       "  <thead>\n",
       "    <tr style=\"text-align: right;\">\n",
       "      <th></th>\n",
       "      <th>TV</th>\n",
       "      <th>radio</th>\n",
       "      <th>newspaper</th>\n",
       "      <th>Google</th>\n",
       "      <th>Facebook</th>\n",
       "      <th>Linkedin</th>\n",
       "      <th>sales</th>\n",
       "    </tr>\n",
       "  </thead>\n",
       "  <tbody>\n",
       "    <tr>\n",
       "      <th>0</th>\n",
       "      <td>230.1</td>\n",
       "      <td>37.8</td>\n",
       "      <td>69.2</td>\n",
       "      <td>267.9</td>\n",
       "      <td>160.9</td>\n",
       "      <td>107.0</td>\n",
       "      <td>22.1</td>\n",
       "    </tr>\n",
       "    <tr>\n",
       "      <th>1</th>\n",
       "      <td>44.5</td>\n",
       "      <td>39.3</td>\n",
       "      <td>45.1</td>\n",
       "      <td>83.8</td>\n",
       "      <td>-0.6</td>\n",
       "      <td>84.4</td>\n",
       "      <td>10.4</td>\n",
       "    </tr>\n",
       "    <tr>\n",
       "      <th>2</th>\n",
       "      <td>17.2</td>\n",
       "      <td>45.9</td>\n",
       "      <td>69.3</td>\n",
       "      <td>63.1</td>\n",
       "      <td>-52.1</td>\n",
       "      <td>115.2</td>\n",
       "      <td>9.3</td>\n",
       "    </tr>\n",
       "    <tr>\n",
       "      <th>3</th>\n",
       "      <td>151.5</td>\n",
       "      <td>41.3</td>\n",
       "      <td>58.5</td>\n",
       "      <td>192.8</td>\n",
       "      <td>93.0</td>\n",
       "      <td>99.8</td>\n",
       "      <td>18.5</td>\n",
       "    </tr>\n",
       "    <tr>\n",
       "      <th>4</th>\n",
       "      <td>180.8</td>\n",
       "      <td>10.8</td>\n",
       "      <td>58.4</td>\n",
       "      <td>191.6</td>\n",
       "      <td>122.4</td>\n",
       "      <td>69.2</td>\n",
       "      <td>12.9</td>\n",
       "    </tr>\n",
       "  </tbody>\n",
       "</table>\n",
       "</div>"
      ],
      "text/plain": [
       "      TV  radio  newspaper  Google  Facebook  Linkedin  sales\n",
       "0  230.1   37.8       69.2   267.9     160.9     107.0   22.1\n",
       "1   44.5   39.3       45.1    83.8      -0.6      84.4   10.4\n",
       "2   17.2   45.9       69.3    63.1     -52.1     115.2    9.3\n",
       "3  151.5   41.3       58.5   192.8      93.0      99.8   18.5\n",
       "4  180.8   10.8       58.4   191.6     122.4      69.2   12.9"
      ]
     },
     "execution_count": 3,
     "metadata": {},
     "output_type": "execute_result"
    }
   ],
   "source": [
    "# Examine first five rows of data\n",
    "dataset.head()"
   ]
  },
  {
   "cell_type": "code",
   "execution_count": 4,
   "metadata": {
    "scrolled": true
   },
   "outputs": [
    {
     "data": {
      "text/html": [
       "<div>\n",
       "<style scoped>\n",
       "    .dataframe tbody tr th:only-of-type {\n",
       "        vertical-align: middle;\n",
       "    }\n",
       "\n",
       "    .dataframe tbody tr th {\n",
       "        vertical-align: top;\n",
       "    }\n",
       "\n",
       "    .dataframe thead th {\n",
       "        text-align: right;\n",
       "    }\n",
       "</style>\n",
       "<table border=\"1\" class=\"dataframe\">\n",
       "  <thead>\n",
       "    <tr style=\"text-align: right;\">\n",
       "      <th></th>\n",
       "      <th>TV</th>\n",
       "      <th>radio</th>\n",
       "      <th>newspaper</th>\n",
       "      <th>Google</th>\n",
       "      <th>Facebook</th>\n",
       "      <th>Linkedin</th>\n",
       "      <th>sales</th>\n",
       "    </tr>\n",
       "  </thead>\n",
       "  <tbody>\n",
       "    <tr>\n",
       "      <th>count</th>\n",
       "      <td>200.000000</td>\n",
       "      <td>200.000000</td>\n",
       "      <td>200.000000</td>\n",
       "      <td>200.000000</td>\n",
       "      <td>200.000000</td>\n",
       "      <td>200.000000</td>\n",
       "      <td>200.000000</td>\n",
       "    </tr>\n",
       "    <tr>\n",
       "      <th>mean</th>\n",
       "      <td>147.042500</td>\n",
       "      <td>23.264000</td>\n",
       "      <td>30.554000</td>\n",
       "      <td>170.306500</td>\n",
       "      <td>116.488500</td>\n",
       "      <td>53.818000</td>\n",
       "      <td>14.022500</td>\n",
       "    </tr>\n",
       "    <tr>\n",
       "      <th>std</th>\n",
       "      <td>85.854236</td>\n",
       "      <td>14.846809</td>\n",
       "      <td>21.778621</td>\n",
       "      <td>87.926689</td>\n",
       "      <td>87.369442</td>\n",
       "      <td>30.392927</td>\n",
       "      <td>5.217457</td>\n",
       "    </tr>\n",
       "    <tr>\n",
       "      <th>min</th>\n",
       "      <td>0.700000</td>\n",
       "      <td>0.000000</td>\n",
       "      <td>0.300000</td>\n",
       "      <td>10.700000</td>\n",
       "      <td>-72.500000</td>\n",
       "      <td>3.100000</td>\n",
       "      <td>1.600000</td>\n",
       "    </tr>\n",
       "    <tr>\n",
       "      <th>25%</th>\n",
       "      <td>74.375000</td>\n",
       "      <td>9.975000</td>\n",
       "      <td>12.750000</td>\n",
       "      <td>90.625000</td>\n",
       "      <td>42.575000</td>\n",
       "      <td>30.875000</td>\n",
       "      <td>10.375000</td>\n",
       "    </tr>\n",
       "    <tr>\n",
       "      <th>50%</th>\n",
       "      <td>149.750000</td>\n",
       "      <td>22.900000</td>\n",
       "      <td>25.750000</td>\n",
       "      <td>175.550000</td>\n",
       "      <td>124.450000</td>\n",
       "      <td>46.400000</td>\n",
       "      <td>12.900000</td>\n",
       "    </tr>\n",
       "    <tr>\n",
       "      <th>75%</th>\n",
       "      <td>218.825000</td>\n",
       "      <td>36.525000</td>\n",
       "      <td>45.100000</td>\n",
       "      <td>243.300000</td>\n",
       "      <td>183.900000</td>\n",
       "      <td>73.950000</td>\n",
       "      <td>17.400000</td>\n",
       "    </tr>\n",
       "    <tr>\n",
       "      <th>max</th>\n",
       "      <td>296.400000</td>\n",
       "      <td>49.600000</td>\n",
       "      <td>114.000000</td>\n",
       "      <td>332.700000</td>\n",
       "      <td>291.800000</td>\n",
       "      <td>150.600000</td>\n",
       "      <td>27.000000</td>\n",
       "    </tr>\n",
       "  </tbody>\n",
       "</table>\n",
       "</div>"
      ],
      "text/plain": [
       "               TV       radio   newspaper      Google    Facebook    Linkedin  \\\n",
       "count  200.000000  200.000000  200.000000  200.000000  200.000000  200.000000   \n",
       "mean   147.042500   23.264000   30.554000  170.306500  116.488500   53.818000   \n",
       "std     85.854236   14.846809   21.778621   87.926689   87.369442   30.392927   \n",
       "min      0.700000    0.000000    0.300000   10.700000  -72.500000    3.100000   \n",
       "25%     74.375000    9.975000   12.750000   90.625000   42.575000   30.875000   \n",
       "50%    149.750000   22.900000   25.750000  175.550000  124.450000   46.400000   \n",
       "75%    218.825000   36.525000   45.100000  243.300000  183.900000   73.950000   \n",
       "max    296.400000   49.600000  114.000000  332.700000  291.800000  150.600000   \n",
       "\n",
       "            sales  \n",
       "count  200.000000  \n",
       "mean    14.022500  \n",
       "std      5.217457  \n",
       "min      1.600000  \n",
       "25%     10.375000  \n",
       "50%     12.900000  \n",
       "75%     17.400000  \n",
       "max     27.000000  "
      ]
     },
     "execution_count": 4,
     "metadata": {},
     "output_type": "execute_result"
    }
   ],
   "source": [
    "# overview of data\n",
    "dataset.describe()"
   ]
  },
  {
   "cell_type": "code",
   "execution_count": 5,
   "metadata": {},
   "outputs": [
    {
     "data": {
      "text/plain": [
       "TV           0\n",
       "radio        0\n",
       "newspaper    0\n",
       "Google       0\n",
       "Facebook     0\n",
       "Linkedin     0\n",
       "sales        0\n",
       "dtype: int64"
      ]
     },
     "execution_count": 5,
     "metadata": {},
     "output_type": "execute_result"
    }
   ],
   "source": [
    "# check for null data fields\n",
    "dataset.isnull().sum()"
   ]
  },
  {
   "cell_type": "code",
   "execution_count": 6,
   "metadata": {},
   "outputs": [
    {
     "data": {
      "text/html": [
       "<div>\n",
       "<style scoped>\n",
       "    .dataframe tbody tr th:only-of-type {\n",
       "        vertical-align: middle;\n",
       "    }\n",
       "\n",
       "    .dataframe tbody tr th {\n",
       "        vertical-align: top;\n",
       "    }\n",
       "\n",
       "    .dataframe thead th {\n",
       "        text-align: right;\n",
       "    }\n",
       "</style>\n",
       "<table border=\"1\" class=\"dataframe\">\n",
       "  <thead>\n",
       "    <tr style=\"text-align: right;\">\n",
       "      <th></th>\n",
       "      <th>TV</th>\n",
       "      <th>radio</th>\n",
       "      <th>newspaper</th>\n",
       "      <th>Google</th>\n",
       "      <th>Facebook</th>\n",
       "      <th>Linkedin</th>\n",
       "      <th>sales</th>\n",
       "    </tr>\n",
       "  </thead>\n",
       "  <tbody>\n",
       "    <tr>\n",
       "      <th>TV</th>\n",
       "      <td>1.000000</td>\n",
       "      <td>0.054809</td>\n",
       "      <td>0.056648</td>\n",
       "      <td>0.985684</td>\n",
       "      <td>0.968537</td>\n",
       "      <td>0.067366</td>\n",
       "      <td>0.782224</td>\n",
       "    </tr>\n",
       "    <tr>\n",
       "      <th>radio</th>\n",
       "      <td>0.054809</td>\n",
       "      <td>1.000000</td>\n",
       "      <td>0.354104</td>\n",
       "      <td>0.222371</td>\n",
       "      <td>-0.034409</td>\n",
       "      <td>0.742235</td>\n",
       "      <td>0.576223</td>\n",
       "    </tr>\n",
       "    <tr>\n",
       "      <th>newspaper</th>\n",
       "      <td>0.056648</td>\n",
       "      <td>0.354104</td>\n",
       "      <td>1.000000</td>\n",
       "      <td>0.115105</td>\n",
       "      <td>-0.193605</td>\n",
       "      <td>0.889547</td>\n",
       "      <td>0.228299</td>\n",
       "    </tr>\n",
       "    <tr>\n",
       "      <th>Google</th>\n",
       "      <td>0.985684</td>\n",
       "      <td>0.222371</td>\n",
       "      <td>0.115105</td>\n",
       "      <td>1.000000</td>\n",
       "      <td>0.939898</td>\n",
       "      <td>0.191108</td>\n",
       "      <td>0.861085</td>\n",
       "    </tr>\n",
       "    <tr>\n",
       "      <th>Facebook</th>\n",
       "      <td>0.968537</td>\n",
       "      <td>-0.034409</td>\n",
       "      <td>-0.193605</td>\n",
       "      <td>0.939898</td>\n",
       "      <td>1.000000</td>\n",
       "      <td>-0.155540</td>\n",
       "      <td>0.711750</td>\n",
       "    </tr>\n",
       "    <tr>\n",
       "      <th>Linkedin</th>\n",
       "      <td>0.067366</td>\n",
       "      <td>0.742235</td>\n",
       "      <td>0.889547</td>\n",
       "      <td>0.191108</td>\n",
       "      <td>-0.155540</td>\n",
       "      <td>1.000000</td>\n",
       "      <td>0.445074</td>\n",
       "    </tr>\n",
       "    <tr>\n",
       "      <th>sales</th>\n",
       "      <td>0.782224</td>\n",
       "      <td>0.576223</td>\n",
       "      <td>0.228299</td>\n",
       "      <td>0.861085</td>\n",
       "      <td>0.711750</td>\n",
       "      <td>0.445074</td>\n",
       "      <td>1.000000</td>\n",
       "    </tr>\n",
       "  </tbody>\n",
       "</table>\n",
       "</div>"
      ],
      "text/plain": [
       "                 TV     radio  newspaper    Google  Facebook  Linkedin  \\\n",
       "TV         1.000000  0.054809   0.056648  0.985684  0.968537  0.067366   \n",
       "radio      0.054809  1.000000   0.354104  0.222371 -0.034409  0.742235   \n",
       "newspaper  0.056648  0.354104   1.000000  0.115105 -0.193605  0.889547   \n",
       "Google     0.985684  0.222371   0.115105  1.000000  0.939898  0.191108   \n",
       "Facebook   0.968537 -0.034409  -0.193605  0.939898  1.000000 -0.155540   \n",
       "Linkedin   0.067366  0.742235   0.889547  0.191108 -0.155540  1.000000   \n",
       "sales      0.782224  0.576223   0.228299  0.861085  0.711750  0.445074   \n",
       "\n",
       "              sales  \n",
       "TV         0.782224  \n",
       "radio      0.576223  \n",
       "newspaper  0.228299  \n",
       "Google     0.861085  \n",
       "Facebook   0.711750  \n",
       "Linkedin   0.445074  \n",
       "sales      1.000000  "
      ]
     },
     "execution_count": 6,
     "metadata": {},
     "output_type": "execute_result"
    }
   ],
   "source": [
    "dataset.corr(method='pearson')"
   ]
  },
  {
   "cell_type": "code",
   "execution_count": 7,
   "metadata": {},
   "outputs": [
    {
     "data": {
      "image/png": "[encoded data removed]",
      "text/plain": [
       "<Figure size 1008x1008 with 6 Axes>"
      ]
     },
     "metadata": {
      "needs_background": "light"
     },
     "output_type": "display_data"
    }
   ],
   "source": [
    "# visualize relationship among variables/target by creating scatter plots for each variable\n",
    "\n",
    "y_label = 'Total $ sales'\n",
    "\n",
    "fig, axs = plt.subplots(3, 2, figsize=(14,14))\n",
    "axs[0, 0].scatter(dataset['TV'], dataset['sales'])\n",
    "axs[0, 0].set_title('TV vs sales')\n",
    "axs[0, 0].set(xlabel='TV $ spend', ylabel= y_label)\n",
    "\n",
    "axs[0, 1].scatter(dataset['radio'], dataset['sales'],  color='r')\n",
    "axs[0, 1].set_title('Radio vs sales')\n",
    "axs[0, 1].set(xlabel='Radio $ spend', ylabel= y_label)\n",
    "\n",
    "axs[1, 0].scatter(dataset['newspaper'], dataset['sales'],  color='g')\n",
    "axs[1, 0].set_title('Newspaper vs sales')\n",
    "axs[1, 0].set(xlabel='Newspaper $ spend', ylabel= y_label)\n",
    "\n",
    "axs[1, 1].scatter(dataset['Google'], dataset['sales'],  color='y')\n",
    "axs[1, 1].set_title('Google vs sales')\n",
    "axs[1, 1].set(xlabel='Google $ spend', ylabel= y_label)\n",
    "\n",
    "axs[2, 0].scatter(dataset['Facebook'], dataset['sales'],  color='c')\n",
    "axs[2, 0].set_title('Facebook vs sales')\n",
    "axs[2, 0].set(xlabel='Facebook $ spend', ylabel= y_label)\n",
    "\n",
    "axs[2, 1].scatter(dataset['Linkedin'], dataset['sales'],  color='m')\n",
    "axs[2, 1].set_title('Linkedin vs sales')\n",
    "axs[2, 1].set(xlabel='Linkedin $ spend', ylabel= y_label)\n",
    "\n",
    "fig.tight_layout(pad=3.0)"
   ]
  },
  {
   "cell_type": "markdown",
   "metadata": {},
   "source": [
    "Linkedin and newspaper ad spending are much less related to sales when compared with other variables. This should be taken into consideration when modeling."
   ]
  },
  {
   "cell_type": "markdown",
   "metadata": {},
   "source": [
    "Also note that Facebook data contains negative values that should be considered."
   ]
  },
  {
   "cell_type": "code",
   "execution_count": 8,
   "metadata": {},
   "outputs": [
    {
     "data": {
      "text/plain": [
       "<matplotlib.collections.PathCollection at 0x1ba7e4b37b8>"
      ]
     },
     "execution_count": 8,
     "metadata": {},
     "output_type": "execute_result"
    },
    {
     "data": {
      "image/png": "[encoded data removed]",
      "text/plain": [
       "<Figure size 432x288 with 1 Axes>"
      ]
     },
     "metadata": {
      "needs_background": "light"
     },
     "output_type": "display_data"
    }
   ],
   "source": [
    "# Create a dataframe with negative values removed\n",
    "df_FBx = dataset.copy()\n",
    "negs = df_FBx[df_FBx['Facebook'] < 0].index\n",
    "df_FBx.drop(negs, inplace=True)\n",
    "\n",
    "# visualize new dataset\n",
    "plt.scatter(df_FBx['Facebook'], df_FBx['sales'])"
   ]
  },
  {
   "cell_type": "code",
   "execution_count": 9,
   "metadata": {},
   "outputs": [
    {
     "data": {
      "text/html": [
       "<div>\n",
       "<style scoped>\n",
       "    .dataframe tbody tr th:only-of-type {\n",
       "        vertical-align: middle;\n",
       "    }\n",
       "\n",
       "    .dataframe tbody tr th {\n",
       "        vertical-align: top;\n",
       "    }\n",
       "\n",
       "    .dataframe thead th {\n",
       "        text-align: right;\n",
       "    }\n",
       "</style>\n",
       "<table border=\"1\" class=\"dataframe\">\n",
       "  <thead>\n",
       "    <tr style=\"text-align: right;\">\n",
       "      <th></th>\n",
       "      <th>TV</th>\n",
       "      <th>radio</th>\n",
       "      <th>newspaper</th>\n",
       "      <th>Google</th>\n",
       "      <th>Facebook</th>\n",
       "      <th>Linkedin</th>\n",
       "      <th>sales</th>\n",
       "    </tr>\n",
       "  </thead>\n",
       "  <tbody>\n",
       "    <tr>\n",
       "      <th>TV</th>\n",
       "      <td>1.000000</td>\n",
       "      <td>0.127984</td>\n",
       "      <td>0.220714</td>\n",
       "      <td>0.983063</td>\n",
       "      <td>0.963928</td>\n",
       "      <td>0.222675</td>\n",
       "      <td>0.713578</td>\n",
       "    </tr>\n",
       "    <tr>\n",
       "      <th>radio</th>\n",
       "      <td>0.127984</td>\n",
       "      <td>1.000000</td>\n",
       "      <td>0.315535</td>\n",
       "      <td>0.307576</td>\n",
       "      <td>0.044969</td>\n",
       "      <td>0.738190</td>\n",
       "      <td>0.734987</td>\n",
       "    </tr>\n",
       "    <tr>\n",
       "      <th>newspaper</th>\n",
       "      <td>0.220714</td>\n",
       "      <td>0.315535</td>\n",
       "      <td>1.000000</td>\n",
       "      <td>0.270062</td>\n",
       "      <td>-0.046847</td>\n",
       "      <td>0.873055</td>\n",
       "      <td>0.374201</td>\n",
       "    </tr>\n",
       "    <tr>\n",
       "      <th>Google</th>\n",
       "      <td>0.983063</td>\n",
       "      <td>0.307576</td>\n",
       "      <td>0.270062</td>\n",
       "      <td>1.000000</td>\n",
       "      <td>0.933115</td>\n",
       "      <td>0.350045</td>\n",
       "      <td>0.820432</td>\n",
       "    </tr>\n",
       "    <tr>\n",
       "      <th>Facebook</th>\n",
       "      <td>0.963928</td>\n",
       "      <td>0.044969</td>\n",
       "      <td>-0.046847</td>\n",
       "      <td>0.933115</td>\n",
       "      <td>1.000000</td>\n",
       "      <td>-0.010196</td>\n",
       "      <td>0.628700</td>\n",
       "    </tr>\n",
       "    <tr>\n",
       "      <th>Linkedin</th>\n",
       "      <td>0.222675</td>\n",
       "      <td>0.738190</td>\n",
       "      <td>0.873055</td>\n",
       "      <td>0.350045</td>\n",
       "      <td>-0.010196</td>\n",
       "      <td>1.000000</td>\n",
       "      <td>0.643713</td>\n",
       "    </tr>\n",
       "    <tr>\n",
       "      <th>sales</th>\n",
       "      <td>0.713578</td>\n",
       "      <td>0.734987</td>\n",
       "      <td>0.374201</td>\n",
       "      <td>0.820432</td>\n",
       "      <td>0.628700</td>\n",
       "      <td>0.643713</td>\n",
       "      <td>1.000000</td>\n",
       "    </tr>\n",
       "  </tbody>\n",
       "</table>\n",
       "</div>"
      ],
      "text/plain": [
       "                 TV     radio  newspaper    Google  Facebook  Linkedin  \\\n",
       "TV         1.000000  0.127984   0.220714  0.983063  0.963928  0.222675   \n",
       "radio      0.127984  1.000000   0.315535  0.307576  0.044969  0.738190   \n",
       "newspaper  0.220714  0.315535   1.000000  0.270062 -0.046847  0.873055   \n",
       "Google     0.983063  0.307576   0.270062  1.000000  0.933115  0.350045   \n",
       "Facebook   0.963928  0.044969  -0.046847  0.933115  1.000000 -0.010196   \n",
       "Linkedin   0.222675  0.738190   0.873055  0.350045 -0.010196  1.000000   \n",
       "sales      0.713578  0.734987   0.374201  0.820432  0.628700  0.643713   \n",
       "\n",
       "              sales  \n",
       "TV         0.713578  \n",
       "radio      0.734987  \n",
       "newspaper  0.374201  \n",
       "Google     0.820432  \n",
       "Facebook   0.628700  \n",
       "Linkedin   0.643713  \n",
       "sales      1.000000  "
      ]
     },
     "execution_count": 9,
     "metadata": {},
     "output_type": "execute_result"
    }
   ],
   "source": [
    "df_FBx.corr(method='pearson')"
   ]
  },
  {
   "cell_type": "code",
   "execution_count": 10,
   "metadata": {},
   "outputs": [],
   "source": [
    "# split data into a training and test set:\n",
    "X = dataset[['TV', 'radio', 'newspaper', 'Google', 'Facebook', 'Linkedin']]\n",
    "y = dataset[['sales']]\n",
    "\n",
    "# Split X and y into X_\n",
    "X_train, X_test, y_train, y_test = train_test_split(X, y, test_size=0.2, random_state=1)"
   ]
  },
  {
   "cell_type": "code",
   "execution_count": 11,
   "metadata": {},
   "outputs": [],
   "source": [
    "# do same for data with negative FB values removed\n",
    "X2 = df_FBx[['TV', 'radio', 'newspaper', 'Google', 'Facebook', 'Linkedin']]\n",
    "y2 = df_FBx[['sales']]\n",
    "\n",
    "# Split X2 and y2 into test and training\n",
    "X_train2, X_test2, y_train2, y_test2 = train_test_split(X2, y2, test_size =0.2, random_state=1)"
   ]
  },
  {
   "cell_type": "markdown",
   "metadata": {},
   "source": [
    "## Linear Regression"
   ]
  },
  {
   "cell_type": "code",
   "execution_count": 12,
   "metadata": {},
   "outputs": [
    {
     "name": "stdout",
     "output_type": "stream",
     "text": [
      "lr.coef_: [[-0.02056799  0.07691485 -0.03163222  0.05634686  0.01106423  0.04528263]]\n",
      "lr.intercept_: [2.90794702]\n",
      "LR training set score: 0.90\n",
      "LR test set score: 0.89\n"
     ]
    }
   ],
   "source": [
    "lr = LinearRegression().fit(X_train, y_train)\n",
    "\n",
    "print(\"lr.coef_:\", lr.coef_)\n",
    "print(\"lr.intercept_:\", lr.intercept_)\n",
    "print(\"LR training set score: {:.2f}\".format(lr.score(X_train, y_train)))\n",
    "print(\"LR test set score: {:.2f}\".format(lr.score(X_test, y_test)))"
   ]
  },
  {
   "cell_type": "code",
   "execution_count": 13,
   "metadata": {},
   "outputs": [
    {
     "name": "stdout",
     "output_type": "stream",
     "text": [
      "The LR coefficient for TV is -0.020567987840226568\n",
      "The LR coefficient for radio is 0.0769148495866932\n",
      "The LR coefficient for newspaper is -0.03163221711097688\n",
      "The LR coefficient for Google is 0.05634686174646662\n",
      "The LR coefficient for Facebook is 0.011064229270750375\n",
      "The LR coefficient for Linkedin is 0.04528263247571623\n",
      "The LR intercept for this model is [2.90794702]\n"
     ]
    }
   ],
   "source": [
    "# print coefficients with feature names\n",
    "for idx, col_name in enumerate(X_train.columns):\n",
    "    print(\"The LR coefficient for {} is {}\".format(col_name, lr.coef_[0][idx]))\n",
    "    \n",
    "print(\"The LR intercept for this model is {}\".format(lr.intercept_))"
   ]
  },
  {
   "cell_type": "code",
   "execution_count": 14,
   "metadata": {},
   "outputs": [
    {
     "name": "stdout",
     "output_type": "stream",
     "text": [
      "In Linear Regression model, 89.27605914615383 percent of the variability in Y can be explained using X.\n"
     ]
    }
   ],
   "source": [
    "# Calculate how closely this model matches reality\n",
    "rSquared = lr.score(X_test, y_test)\n",
    "\n",
    "# multiply decimal by 100 to get the percent!\n",
    "print(\"In Linear Regression model, %s percent of the variability in Y can be explained using X.\" % (100*rSquared))"
   ]
  },
  {
   "cell_type": "code",
   "execution_count": 15,
   "metadata": {},
   "outputs": [
    {
     "name": "stdout",
     "output_type": "stream",
     "text": [
      "MSE 1.4113417558581591.\n"
     ]
    }
   ],
   "source": [
    "# make predictions using the test set\n",
    "y_predict = lr.predict(X_test)\n",
    "lr_model_mse = mean_squared_error(y_predict, y_test)\n",
    "\n",
    "mseRoot = math.sqrt(lr_model_mse)\n",
    "print(\"MSE %s.\" % mseRoot)"
   ]
  },
  {
   "cell_type": "code",
   "execution_count": 16,
   "metadata": {},
   "outputs": [
    {
     "name": "stdout",
     "output_type": "stream",
     "text": [
      "lr.coef_: [[-0.02799843  0.08845916 -0.03558051  0.06046072  0.00758208  0.05287865]]\n",
      "lr.intercept_: [3.5507388]\n",
      "LR training set score: 0.94\n",
      "LR test set score: 0.91\n"
     ]
    }
   ],
   "source": [
    "# test results with negative values removed\n",
    "lr2 = LinearRegression().fit(X_train2, y_train2)\n",
    "\n",
    "print(\"lr.coef_:\", lr2.coef_)\n",
    "print(\"lr.intercept_:\", lr2.intercept_)\n",
    "print(\"LR training set score: {:.2f}\".format(lr2.score(X_train2, y_train2)))\n",
    "print(\"LR test set score: {:.2f}\".format(lr2.score(X_test2, y_test2)))"
   ]
  },
  {
   "cell_type": "code",
   "execution_count": 17,
   "metadata": {},
   "outputs": [
    {
     "name": "stdout",
     "output_type": "stream",
     "text": [
      "In Linear Regression model, 90.5945198246058 percent of the variability in Y can be explained using X.\n"
     ]
    }
   ],
   "source": [
    "#Calculate how closely this non-neg model matches reality\n",
    "rSquared2 = lr2.score(X_test2, y_test2)\n",
    "\n",
    "# multiply decimal by 100 to get the percent!\n",
    "print(\"In Linear Regression model, %s percent of the variability in Y can be explained using X.\" % (100*rSquared2))"
   ]
  },
  {
   "cell_type": "code",
   "execution_count": 18,
   "metadata": {},
   "outputs": [
    {
     "name": "stdout",
     "output_type": "stream",
     "text": [
      "MSE 1.4253933778925854.\n"
     ]
    }
   ],
   "source": [
    "# make predictions using the non-neg test set\n",
    "y_predict2 = lr2.predict(X_test2)\n",
    "lr_model_mse2 = mean_squared_error(y_predict2, y_test2)\n",
    "\n",
    "mseRoot2 = math.sqrt(lr_model_mse2)\n",
    "print(\"MSE %s.\" % mseRoot2)"
   ]
  },
  {
   "cell_type": "markdown",
   "metadata": {},
   "source": [
    "## Ridge Regression"
   ]
  },
  {
   "cell_type": "code",
   "execution_count": 19,
   "metadata": {},
   "outputs": [
    {
     "name": "stdout",
     "output_type": "stream",
     "text": [
      "ridge.coef_: [[-0.02056788  0.07691468 -0.03163208  0.05634679  0.0110642   0.04528259]]\n",
      "ridge.intercept_: [2.90794932]\n",
      "Ridge training set score: 0.90\n",
      "Ridge test set score: 0.89\n"
     ]
    }
   ],
   "source": [
    "ridge = Ridge(alpha=.1).fit(X_train, y_train) # values of alpha ranging from .01-10 tested and had no impact on results\n",
    "\n",
    "print(\"ridge.coef_:\", ridge.coef_)\n",
    "print(\"ridge.intercept_:\", ridge.intercept_)\n",
    "print(\"Ridge training set score: {:.2f}\".format(ridge.score(X_train, y_train)))\n",
    "print(\"Ridge test set score: {:.2f}\".format(ridge.score(X_test, y_test)))"
   ]
  },
  {
   "cell_type": "code",
   "execution_count": 20,
   "metadata": {},
   "outputs": [
    {
     "data": {
      "text/plain": [
       "0.1"
      ]
     },
     "execution_count": 20,
     "metadata": {},
     "output_type": "execute_result"
    }
   ],
   "source": [
    "ridge.alpha"
   ]
  },
  {
   "cell_type": "code",
   "execution_count": 21,
   "metadata": {},
   "outputs": [
    {
     "name": "stdout",
     "output_type": "stream",
     "text": [
      "The Ridge coefficient for TV is -0.02056788350643054\n",
      "The Ridge coefficient for radio is 0.07691467561818095\n",
      "The Ridge coefficient for newspaper is -0.03163208172168915\n",
      "The Ridge coefficient for Google is 0.056346791771465225\n",
      "The Ridge coefficient for Facebook is 0.011064198075577732\n",
      "The Ridge coefficient for Linkedin is 0.045282593835707555\n",
      "The Ridge intercept for our model is [2.90794932]\n"
     ]
    }
   ],
   "source": [
    "# print coefficients with feature names\n",
    "for idx, col_name in enumerate(X_train.columns):\n",
    "    print(\"The Ridge coefficient for {} is {}\".format(col_name, ridge.coef_[0][idx]))\n",
    "    \n",
    "print(\"The Ridge intercept for our model is {}\".format(ridge.intercept_))"
   ]
  },
  {
   "cell_type": "code",
   "execution_count": 22,
   "metadata": {},
   "outputs": [
    {
     "name": "stdout",
     "output_type": "stream",
     "text": [
      "In Ridge Linear Regression model, 89.27602719319276 percent of the variability in Y can be explained using X.\n"
     ]
    }
   ],
   "source": [
    "rSquared = ridge.score(X_test, y_test) \n",
    "\n",
    "# multiply decimal by 100 to get the percent\n",
    "print(\"In Ridge Linear Regression model, %s percent of the variability in Y can be explained using X.\" % (100*rSquared))\n"
   ]
  },
  {
   "cell_type": "code",
   "execution_count": 23,
   "metadata": {},
   "outputs": [
    {
     "name": "stdout",
     "output_type": "stream",
     "text": [
      "Ridge MSE 1.4113438584674136 \n"
     ]
    }
   ],
   "source": [
    "# calculate MSE\n",
    "y_predict = ridge.predict(X_test)\n",
    "ridge_model_mse = mean_squared_error(y_predict, y_test)\n",
    "mseRoot = math.sqrt(ridge_model_mse)\n",
    "\n",
    "print(\"Ridge MSE %s \" % mseRoot)"
   ]
  },
  {
   "cell_type": "code",
   "execution_count": 24,
   "metadata": {},
   "outputs": [
    {
     "name": "stdout",
     "output_type": "stream",
     "text": [
      "ridge.coef_: [[-0.02799716  0.08845698 -0.03557892  0.06045982  0.00758176  0.05287806]]\n",
      "ridge.intercept_: [3.55077581]\n",
      "Ridge training set score: 0.87\n",
      "Ridge test set score: 0.91\n"
     ]
    }
   ],
   "source": [
    "# test ridge with negative values removed from data\n",
    "ridge2 = Ridge().fit(X_train2, y_train2)\n",
    "\n",
    "print(\"ridge.coef_:\", ridge2.coef_)\n",
    "print(\"ridge.intercept_:\", ridge2.intercept_)\n",
    "print(\"Ridge training set score: {:.2f}\".format(ridge2.score(X_train, y_train)))\n",
    "print(\"Ridge test set score: {:.2f}\".format(ridge2.score(X_test, y_test)))"
   ]
  },
  {
   "cell_type": "code",
   "execution_count": 25,
   "metadata": {},
   "outputs": [
    {
     "name": "stdout",
     "output_type": "stream",
     "text": [
      "In Ridge Linear Regression model, 90.59424238286798 percent of the variability in Y can be explained using X.\n"
     ]
    }
   ],
   "source": [
    "rSquared2 = ridge2.score(X_test2, y_test2) \n",
    "\n",
    "# multiply decimal by 100 to get the percent\n",
    "print(\"In Ridge Linear Regression model, %s percent of the variability in Y can be explained using X.\" % (100*rSquared2))\n"
   ]
  },
  {
   "cell_type": "code",
   "execution_count": 26,
   "metadata": {},
   "outputs": [
    {
     "name": "stdout",
     "output_type": "stream",
     "text": [
      "Ridge MSE 1.425414400779889 \n"
     ]
    }
   ],
   "source": [
    "# calculate MSE with negative values removed\n",
    "y_predict2 = ridge2.predict(X_test2)\n",
    "ridge_model_mse2 = mean_squared_error(y_predict2, y_test2)\n",
    "mseRoot2 = math.sqrt(ridge_model_mse2)\n",
    "\n",
    "print(\"Ridge MSE %s \" % mseRoot2)"
   ]
  },
  {
   "cell_type": "markdown",
   "metadata": {},
   "source": [
    "## Lasso Regression"
   ]
  },
  {
   "cell_type": "code",
   "execution_count": 27,
   "metadata": {},
   "outputs": [
    {
     "name": "stdout",
     "output_type": "stream",
     "text": [
      "Lasso.coef_: [0.02361249 0.1520925  0.         0.02323422 0.         0.00272295]\n",
      "Lasso.intercept_: [2.91486414]\n",
      "Lasso training set score: 0.90\n",
      "Lasso test set score: 0.89\n",
      "Number of features used: 4\n"
     ]
    }
   ],
   "source": [
    "lasso = Lasso(alpha=0.1, max_iter=100000).fit(X_train, y_train)\n",
    "\n",
    "print(\"Lasso.coef_:\", lasso.coef_)\n",
    "print(\"Lasso.intercept_:\", lasso.intercept_)\n",
    "print(\"Lasso training set score: {:.2f}\".format(lasso.score(X_train, y_train)))\n",
    "print(\"Lasso test set score: {:.2f}\".format(lasso.score(X_test, y_test)))\n",
    "    \n",
    "print(\"Number of features used:\", np.sum(lasso.coef_ != 0))"
   ]
  },
  {
   "cell_type": "code",
   "execution_count": 28,
   "metadata": {},
   "outputs": [
    {
     "name": "stdout",
     "output_type": "stream",
     "text": [
      "The Lasso coefficient for TV is 0.023612493803277568\n",
      "The Lasso coefficient for radio is 0.1520925007816029\n",
      "The Lasso coefficient for newspaper is 0.0\n",
      "The Lasso coefficient for Google is 0.02323421754580889\n",
      "The Lasso coefficient for Facebook is 0.0\n",
      "The Lasso coefficient for Linkedin is 0.0027229482377865172\n",
      "The Lasso intercept for our model is [2.91486414]\n"
     ]
    }
   ],
   "source": [
    "# print coefficients with feature names\n",
    "for idx, col_name in enumerate(X_train.columns):\n",
    "    print(\"The Lasso coefficient for {} is {}\".format(col_name, lasso.coef_[idx]))\n",
    "    \n",
    "print(\"The Lasso intercept for our model is {}\".format(lasso.intercept_))\n"
   ]
  },
  {
   "cell_type": "code",
   "execution_count": 29,
   "metadata": {},
   "outputs": [
    {
     "name": "stdout",
     "output_type": "stream",
     "text": [
      "In Lasso Linear Regression model, 89.22389701834196 percent of the variability in Y can be explained using X.\n"
     ]
    }
   ],
   "source": [
    "rSquared = lasso.score(X_test, y_test) \n",
    "\n",
    "#multiply decimal by 100 to get the percent\n",
    "print(\"In Lasso Linear Regression model, %s percent of the variability in Y can be explained using X.\" % (100*rSquared))"
   ]
  },
  {
   "cell_type": "code",
   "execution_count": 30,
   "metadata": {},
   "outputs": [
    {
     "name": "stdout",
     "output_type": "stream",
     "text": [
      "Lasso MSE 1.4147700330840671 \n"
     ]
    }
   ],
   "source": [
    "#calculate MSE\n",
    "y_predict = lasso.predict(X_test)\n",
    "lasso_model_mse = mean_squared_error(y_predict, y_test)\n",
    "mseRoot = math.sqrt(lasso_model_mse)\n",
    "\n",
    "print(\"Lasso MSE %s \" % mseRoot)"
   ]
  },
  {
   "cell_type": "code",
   "execution_count": 31,
   "metadata": {},
   "outputs": [
    {
     "name": "stdout",
     "output_type": "stream",
     "text": [
      "Lasso.coef_: [0.01332379 0.16477266 0.         0.02672989 0.         0.00980284]\n",
      "Lasso.intercept_: [3.55819343]\n",
      "Lasso training set score: 0.94\n",
      "Lasso test set score: 0.91\n",
      "Number of features used: 4\n"
     ]
    }
   ],
   "source": [
    "# model non-negative dataset using Lasso\n",
    "lasso2 = Lasso(alpha=0.1, max_iter=100000).fit(X_train2, y_train2)\n",
    "\n",
    "print(\"Lasso.coef_:\", lasso2.coef_)\n",
    "print(\"Lasso.intercept_:\", lasso2.intercept_)\n",
    "print(\"Lasso training set score: {:.2f}\".format(lasso2.score(X_train2, y_train2)))\n",
    "print(\"Lasso test set score: {:.2f}\".format(lasso2.score(X_test2, y_test2)))\n",
    "    \n",
    "print(\"Number of features used:\", np.sum(lasso2.coef_ != 0))"
   ]
  },
  {
   "cell_type": "code",
   "execution_count": 32,
   "metadata": {},
   "outputs": [
    {
     "name": "stdout",
     "output_type": "stream",
     "text": [
      "In Lasso Linear Regression model, 90.5581614879309 percent of the variability in Y can be explained using X.\n"
     ]
    }
   ],
   "source": [
    "# check r-squared for non-negative lasso model\n",
    "rSquared2 = lasso2.score(X_test2, y_test2) \n",
    "\n",
    "#multiply decimal by 100 to get the percent\n",
    "print(\"In Lasso Linear Regression model, %s percent of the variability in Y can be explained using X.\" % (100*rSquared2))"
   ]
  },
  {
   "cell_type": "code",
   "execution_count": 33,
   "metadata": {},
   "outputs": [
    {
     "name": "stdout",
     "output_type": "stream",
     "text": [
      "Lasso MSE 1.4281457596749378 \n"
     ]
    }
   ],
   "source": [
    "#calculate RMSE for non-negative lasso model \n",
    "y_predict2 = lasso2.predict(X_test2)\n",
    "lasso_model_mse2 = mean_squared_error(y_predict2, y_test2)\n",
    "mseRoot2 = math.sqrt(lasso_model_mse2)\n",
    "\n",
    "print(\"Lasso MSE %s \" % mseRoot2)"
   ]
  }
 ],
 "metadata": {
  "kernelspec": {
   "display_name": "Python 3",
   "language": "python",
   "name": "python3"
  },
  "language_info": {
   "codemirror_mode": {
    "name": "ipython",
    "version": 3
   },
   "file_extension": ".py",
   "mimetype": "text/x-python",
   "name": "python",
   "nbconvert_exporter": "python",
   "pygments_lexer": "ipython3",
   "version": "3.7.4"
  }
 },
 "nbformat": 4,
 "nbformat_minor": 2
}
